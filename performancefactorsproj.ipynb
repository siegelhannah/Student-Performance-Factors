<html xmlns:v="urn:schemas-microsoft-com:vml"
xmlns:o="urn:schemas-microsoft-com:office:office"
xmlns:w="urn:schemas-microsoft-com:office:word"
xmlns:m="http://schemas.microsoft.com/office/2004/12/omml"
xmlns="http://www.w3.org/TR/REC-html40">

<head>
<meta http-equiv=Content-Type content="text/html; charset=us-ascii">
<meta name=ProgId content=Word.Document>
<meta name=Generator content="Microsoft Word 15">
<meta name=Originator content="Microsoft Word 15">
<link rel=File-List href="performancefactorsproj_files/filelist.xml">
<!--[if gte mso 9]><xml>
 <o:DocumentProperties>
  <o:Author>Hannah S</o:Author>
  <o:Template>Normal</o:Template>
  <o:LastAuthor>Hannah S</o:LastAuthor>
  <o:Revision>2</o:Revision>
  <o:TotalTime>1</o:TotalTime>
  <o:Created>2024-11-08T20:58:00Z</o:Created>
  <o:LastSaved>2024-11-08T20:59:00Z</o:LastSaved>
  <o:Pages>1</o:Pages>
  <o:Version>16.00</o:Version>
 </o:DocumentProperties>
 <o:OfficeDocumentSettings>
  <o:AllowPNG/>
 </o:OfficeDocumentSettings>
</xml><![endif]-->
<link rel=themeData href="performancefactorsproj_files/themedata.thmx">
<link rel=colorSchemeMapping
href="performancefactorsproj_files/colorschememapping.xml">
<!--[if gte mso 9]><xml>
 <w:WordDocument>
  <w:View>Print</w:View>
  <w:GrammarState>Clean</w:GrammarState>
  <w:TrackMoves>false</w:TrackMoves>
  <w:TrackFormatting/>
  <w:ValidateAgainstSchemas/>
  <w:SaveIfXMLInvalid>false</w:SaveIfXMLInvalid>
  <w:IgnoreMixedContent>false</w:IgnoreMixedContent>
  <w:AlwaysShowPlaceholderText>false</w:AlwaysShowPlaceholderText>
  <w:DoNotPromoteQF/>
  <w:LidThemeOther>EN-US</w:LidThemeOther>
  <w:LidThemeAsian>X-NONE</w:LidThemeAsian>
  <w:LidThemeComplexScript>X-NONE</w:LidThemeComplexScript>
  <w:Compatibility>
   <w:BreakWrappedTables/>
   <w:SplitPgBreakAndParaMark/>
  </w:Compatibility>
  <m:mathPr>
   <m:mathFont m:val="Cambria Math"/>
   <m:brkBin m:val="before"/>
   <m:brkBinSub m:val="&#45;-"/>
   <m:smallFrac m:val="off"/>
   <m:dispDef/>
   <m:lMargin m:val="0"/>
   <m:rMargin m:val="0"/>
   <m:defJc m:val="centerGroup"/>
   <m:wrapIndent m:val="1440"/>
   <m:intLim m:val="subSup"/>
   <m:naryLim m:val="undOvr"/>
  </m:mathPr></w:WordDocument>
</xml><![endif]--><!--[if gte mso 9]><xml>
 <w:LatentStyles DefLockedState="false" DefUnhideWhenUsed="false"
  DefSemiHidden="false" DefQFormat="false" DefPriority="99"
  LatentStyleCount="376">
  <w:LsdException Locked="false" Priority="0" QFormat="true" Name="Normal"/>
  <w:LsdException Locked="false" Priority="9" QFormat="true" Name="heading 1"/>
  <w:LsdException Locked="false" Priority="9" SemiHidden="true"
   UnhideWhenUsed="true" QFormat="true" Name="heading 2"/>
  <w:LsdException Locked="false" Priority="9" SemiHidden="true"
   UnhideWhenUsed="true" QFormat="true" Name="heading 3"/>
  <w:LsdException Locked="false" Priority="9" SemiHidden="true"
   UnhideWhenUsed="true" QFormat="true" Name="heading 4"/>
  <w:LsdException Locked="false" Priority="9" SemiHidden="true"
   UnhideWhenUsed="true" QFormat="true" Name="heading 5"/>
  <w:LsdException Locked="false" Priority="9" SemiHidden="true"
   UnhideWhenUsed="true" QFormat="true" Name="heading 6"/>
  <w:LsdException Locked="false" Priority="9" SemiHidden="true"
   UnhideWhenUsed="true" QFormat="true" Name="heading 7"/>
  <w:LsdException Locked="false" Priority="9" SemiHidden="true"
   UnhideWhenUsed="true" QFormat="true" Name="heading 8"/>
  <w:LsdException Locked="false" Priority="9" SemiHidden="true"
   UnhideWhenUsed="true" QFormat="true" Name="heading 9"/>
  <w:LsdException Locked="false" SemiHidden="true" UnhideWhenUsed="true"
   Name="index 1"/>
  <w:LsdException Locked="false" SemiHidden="true" UnhideWhenUsed="true"
   Name="index 2"/>
  <w:LsdException Locked="false" SemiHidden="true" UnhideWhenUsed="true"
   Name="index 3"/>
  <w:LsdException Locked="false" SemiHidden="true" UnhideWhenUsed="true"
   Name="index 4"/>
  <w:LsdException Locked="false" SemiHidden="true" UnhideWhenUsed="true"
   Name="index 5"/>
  <w:LsdException Locked="false" SemiHidden="true" UnhideWhenUsed="true"
   Name="index 6"/>
  <w:LsdException Locked="false" SemiHidden="true" UnhideWhenUsed="true"
   Name="index 7"/>
  <w:LsdException Locked="false" SemiHidden="true" UnhideWhenUsed="true"
   Name="index 8"/>
  <w:LsdException Locked="false" SemiHidden="true" UnhideWhenUsed="true"
   Name="index 9"/>
  <w:LsdException Locked="false" Priority="39" SemiHidden="true"
   UnhideWhenUsed="true" Name="toc 1"/>
  <w:LsdException Locked="false" Priority="39" SemiHidden="true"
   UnhideWhenUsed="true" Name="toc 2"/>
  <w:LsdException Locked="false" Priority="39" SemiHidden="true"
   UnhideWhenUsed="true" Name="toc 3"/>
  <w:LsdException Locked="false" Priority="39" SemiHidden="true"
   UnhideWhenUsed="true" Name="toc 4"/>
  <w:LsdException Locked="false" Priority="39" SemiHidden="true"
   UnhideWhenUsed="true" Name="toc 5"/>
  <w:LsdException Locked="false" Priority="39" SemiHidden="true"
   UnhideWhenUsed="true" Name="toc 6"/>
  <w:LsdException Locked="false" Priority="39" SemiHidden="true"
   UnhideWhenUsed="true" Name="toc 7"/>
  <w:LsdException Locked="false" Priority="39" SemiHidden="true"
   UnhideWhenUsed="true" Name="toc 8"/>
  <w:LsdException Locked="false" Priority="39" SemiHidden="true"
   UnhideWhenUsed="true" Name="toc 9"/>
  <w:LsdException Locked="false" SemiHidden="true" UnhideWhenUsed="true"
   Name="Normal Indent"/>
  <w:LsdException Locked="false" SemiHidden="true" UnhideWhenUsed="true"
   Name="footnote text"/>
  <w:LsdException Locked="false" SemiHidden="true" UnhideWhenUsed="true"
   Name="annotation text"/>
  <w:LsdException Locked="false" SemiHidden="true" UnhideWhenUsed="true"
   Name="header"/>
  <w:LsdException Locked="false" SemiHidden="true" UnhideWhenUsed="true"
   Name="footer"/>
  <w:LsdException Locked="false" SemiHidden="true" UnhideWhenUsed="true"
   Name="index heading"/>
  <w:LsdException Locked="false" Priority="35" SemiHidden="true"
   UnhideWhenUsed="true" QFormat="true" Name="caption"/>
  <w:LsdException Locked="false" SemiHidden="true" UnhideWhenUsed="true"
   Name="table of figures"/>
  <w:LsdException Locked="false" SemiHidden="true" UnhideWhenUsed="true"
   Name="envelope address"/>
  <w:LsdException Locked="false" SemiHidden="true" UnhideWhenUsed="true"
   Name="envelope return"/>
  <w:LsdException Locked="false" SemiHidden="true" UnhideWhenUsed="true"
   Name="footnote reference"/>
  <w:LsdException Locked="false" SemiHidden="true" UnhideWhenUsed="true"
   Name="annotation reference"/>
  <w:LsdException Locked="false" SemiHidden="true" UnhideWhenUsed="true"
   Name="line number"/>
  <w:LsdException Locked="false" SemiHidden="true" UnhideWhenUsed="true"
   Name="page number"/>
  <w:LsdException Locked="false" SemiHidden="true" UnhideWhenUsed="true"
   Name="endnote reference"/>
  <w:LsdException Locked="false" SemiHidden="true" UnhideWhenUsed="true"
   Name="endnote text"/>
  <w:LsdException Locked="false" SemiHidden="true" UnhideWhenUsed="true"
   Name="table of authorities"/>
  <w:LsdException Locked="false" SemiHidden="true" UnhideWhenUsed="true"
   Name="macro"/>
  <w:LsdException Locked="false" SemiHidden="true" UnhideWhenUsed="true"
   Name="toa heading"/>
  <w:LsdException Locked="false" SemiHidden="true" UnhideWhenUsed="true"
   Name="List"/>
  <w:LsdException Locked="false" SemiHidden="true" UnhideWhenUsed="true"
   Name="List Bullet"/>
  <w:LsdException Locked="false" SemiHidden="true" UnhideWhenUsed="true"
   Name="List Number"/>
  <w:LsdException Locked="false" SemiHidden="true" UnhideWhenUsed="true"
   Name="List 2"/>
  <w:LsdException Locked="false" SemiHidden="true" UnhideWhenUsed="true"
   Name="List 3"/>
  <w:LsdException Locked="false" SemiHidden="true" UnhideWhenUsed="true"
   Name="List 4"/>
  <w:LsdException Locked="false" SemiHidden="true" UnhideWhenUsed="true"
   Name="List 5"/>
  <w:LsdException Locked="false" SemiHidden="true" UnhideWhenUsed="true"
   Name="List Bullet 2"/>
  <w:LsdException Locked="false" SemiHidden="true" UnhideWhenUsed="true"
   Name="List Bullet 3"/>
  <w:LsdException Locked="false" SemiHidden="true" UnhideWhenUsed="true"
   Name="List Bullet 4"/>
  <w:LsdException Locked="false" SemiHidden="true" UnhideWhenUsed="true"
   Name="List Bullet 5"/>
  <w:LsdException Locked="false" SemiHidden="true" UnhideWhenUsed="true"
   Name="List Number 2"/>
  <w:LsdException Locked="false" SemiHidden="true" UnhideWhenUsed="true"
   Name="List Number 3"/>
  <w:LsdException Locked="false" SemiHidden="true" UnhideWhenUsed="true"
   Name="List Number 4"/>
  <w:LsdException Locked="false" SemiHidden="true" UnhideWhenUsed="true"
   Name="List Number 5"/>
  <w:LsdException Locked="false" Priority="10" QFormat="true" Name="Title"/>
  <w:LsdException Locked="false" SemiHidden="true" UnhideWhenUsed="true"
   Name="Closing"/>
  <w:LsdException Locked="false" SemiHidden="true" UnhideWhenUsed="true"
   Name="Signature"/>
  <w:LsdException Locked="false" Priority="1" SemiHidden="true"
   UnhideWhenUsed="true" Name="Default Paragraph Font"/>
  <w:LsdException Locked="false" SemiHidden="true" UnhideWhenUsed="true"
   Name="Body Text"/>
  <w:LsdException Locked="false" SemiHidden="true" UnhideWhenUsed="true"
   Name="Body Text Indent"/>
  <w:LsdException Locked="false" SemiHidden="true" UnhideWhenUsed="true"
   Name="List Continue"/>
  <w:LsdException Locked="false" SemiHidden="true" UnhideWhenUsed="true"
   Name="List Continue 2"/>
  <w:LsdException Locked="false" SemiHidden="true" UnhideWhenUsed="true"
   Name="List Continue 3"/>
  <w:LsdException Locked="false" SemiHidden="true" UnhideWhenUsed="true"
   Name="List Continue 4"/>
  <w:LsdException Locked="false" SemiHidden="true" UnhideWhenUsed="true"
   Name="List Continue 5"/>
  <w:LsdException Locked="false" SemiHidden="true" UnhideWhenUsed="true"
   Name="Message Header"/>
  <w:LsdException Locked="false" Priority="11" QFormat="true" Name="Subtitle"/>
  <w:LsdException Locked="false" SemiHidden="true" UnhideWhenUsed="true"
   Name="Salutation"/>
  <w:LsdException Locked="false" SemiHidden="true" UnhideWhenUsed="true"
   Name="Date"/>
  <w:LsdException Locked="false" SemiHidden="true" UnhideWhenUsed="true"
   Name="Body Text First Indent"/>
  <w:LsdException Locked="false" SemiHidden="true" UnhideWhenUsed="true"
   Name="Body Text First Indent 2"/>
  <w:LsdException Locked="false" SemiHidden="true" UnhideWhenUsed="true"
   Name="Note Heading"/>
  <w:LsdException Locked="false" SemiHidden="true" UnhideWhenUsed="true"
   Name="Body Text 2"/>
  <w:LsdException Locked="false" SemiHidden="true" UnhideWhenUsed="true"
   Name="Body Text 3"/>
  <w:LsdException Locked="false" SemiHidden="true" UnhideWhenUsed="true"
   Name="Body Text Indent 2"/>
  <w:LsdException Locked="false" SemiHidden="true" UnhideWhenUsed="true"
   Name="Body Text Indent 3"/>
  <w:LsdException Locked="false" SemiHidden="true" UnhideWhenUsed="true"
   Name="Block Text"/>
  <w:LsdException Locked="false" SemiHidden="true" UnhideWhenUsed="true"
   Name="Hyperlink"/>
  <w:LsdException Locked="false" SemiHidden="true" UnhideWhenUsed="true"
   Name="FollowedHyperlink"/>
  <w:LsdException Locked="false" Priority="22" QFormat="true" Name="Strong"/>
  <w:LsdException Locked="false" Priority="20" QFormat="true" Name="Emphasis"/>
  <w:LsdException Locked="false" SemiHidden="true" UnhideWhenUsed="true"
   Name="Document Map"/>
  <w:LsdException Locked="false" SemiHidden="true" UnhideWhenUsed="true"
   Name="Plain Text"/>
  <w:LsdException Locked="false" SemiHidden="true" UnhideWhenUsed="true"
   Name="E-mail Signature"/>
  <w:LsdException Locked="false" SemiHidden="true" UnhideWhenUsed="true"
   Name="HTML Top of Form"/>
  <w:LsdException Locked="false" SemiHidden="true" UnhideWhenUsed="true"
   Name="HTML Bottom of Form"/>
  <w:LsdException Locked="false" SemiHidden="true" UnhideWhenUsed="true"
   Name="Normal (Web)"/>
  <w:LsdException Locked="false" SemiHidden="true" UnhideWhenUsed="true"
   Name="HTML Acronym"/>
  <w:LsdException Locked="false" SemiHidden="true" UnhideWhenUsed="true"
   Name="HTML Address"/>
  <w:LsdException Locked="false" SemiHidden="true" UnhideWhenUsed="true"
   Name="HTML Cite"/>
  <w:LsdException Locked="false" SemiHidden="true" UnhideWhenUsed="true"
   Name="HTML Code"/>
  <w:LsdException Locked="false" SemiHidden="true" UnhideWhenUsed="true"
   Name="HTML Definition"/>
  <w:LsdException Locked="false" SemiHidden="true" UnhideWhenUsed="true"
   Name="HTML Keyboard"/>
  <w:LsdException Locked="false" SemiHidden="true" UnhideWhenUsed="true"
   Name="HTML Preformatted"/>
  <w:LsdException Locked="false" SemiHidden="true" UnhideWhenUsed="true"
   Name="HTML Sample"/>
  <w:LsdException Locked="false" SemiHidden="true" UnhideWhenUsed="true"
   Name="HTML Typewriter"/>
  <w:LsdException Locked="false" SemiHidden="true" UnhideWhenUsed="true"
   Name="HTML Variable"/>
  <w:LsdException Locked="false" SemiHidden="true" UnhideWhenUsed="true"
   Name="Normal Table"/>
  <w:LsdException Locked="false" SemiHidden="true" UnhideWhenUsed="true"
   Name="annotation subject"/>
  <w:LsdException Locked="false" SemiHidden="true" UnhideWhenUsed="true"
   Name="No List"/>
  <w:LsdException Locked="false" SemiHidden="true" UnhideWhenUsed="true"
   Name="Outline List 1"/>
  <w:LsdException Locked="false" SemiHidden="true" UnhideWhenUsed="true"
   Name="Outline List 2"/>
  <w:LsdException Locked="false" SemiHidden="true" UnhideWhenUsed="true"
   Name="Outline List 3"/>
  <w:LsdException Locked="false" SemiHidden="true" UnhideWhenUsed="true"
   Name="Table Simple 1"/>
  <w:LsdException Locked="false" SemiHidden="true" UnhideWhenUsed="true"
   Name="Table Simple 2"/>
  <w:LsdException Locked="false" SemiHidden="true" UnhideWhenUsed="true"
   Name="Table Simple 3"/>
  <w:LsdException Locked="false" SemiHidden="true" UnhideWhenUsed="true"
   Name="Table Classic 1"/>
  <w:LsdException Locked="false" SemiHidden="true" UnhideWhenUsed="true"
   Name="Table Classic 2"/>
  <w:LsdException Locked="false" SemiHidden="true" UnhideWhenUsed="true"
   Name="Table Classic 3"/>
  <w:LsdException Locked="false" SemiHidden="true" UnhideWhenUsed="true"
   Name="Table Classic 4"/>
  <w:LsdException Locked="false" SemiHidden="true" UnhideWhenUsed="true"
   Name="Table Colorful 1"/>
  <w:LsdException Locked="false" SemiHidden="true" UnhideWhenUsed="true"
   Name="Table Colorful 2"/>
  <w:LsdException Locked="false" SemiHidden="true" UnhideWhenUsed="true"
   Name="Table Colorful 3"/>
  <w:LsdException Locked="false" SemiHidden="true" UnhideWhenUsed="true"
   Name="Table Columns 1"/>
  <w:LsdException Locked="false" SemiHidden="true" UnhideWhenUsed="true"
   Name="Table Columns 2"/>
  <w:LsdException Locked="false" SemiHidden="true" UnhideWhenUsed="true"
   Name="Table Columns 3"/>
  <w:LsdException Locked="false" SemiHidden="true" UnhideWhenUsed="true"
   Name="Table Columns 4"/>
  <w:LsdException Locked="false" SemiHidden="true" UnhideWhenUsed="true"
   Name="Table Columns 5"/>
  <w:LsdException Locked="false" SemiHidden="true" UnhideWhenUsed="true"
   Name="Table Grid 1"/>
  <w:LsdException Locked="false" SemiHidden="true" UnhideWhenUsed="true"
   Name="Table Grid 2"/>
  <w:LsdException Locked="false" SemiHidden="true" UnhideWhenUsed="true"
   Name="Table Grid 3"/>
  <w:LsdException Locked="false" SemiHidden="true" UnhideWhenUsed="true"
   Name="Table Grid 4"/>
  <w:LsdException Locked="false" SemiHidden="true" UnhideWhenUsed="true"
   Name="Table Grid 5"/>
  <w:LsdException Locked="false" SemiHidden="true" UnhideWhenUsed="true"
   Name="Table Grid 6"/>
  <w:LsdException Locked="false" SemiHidden="true" UnhideWhenUsed="true"
   Name="Table Grid 7"/>
  <w:LsdException Locked="false" SemiHidden="true" UnhideWhenUsed="true"
   Name="Table Grid 8"/>
  <w:LsdException Locked="false" SemiHidden="true" UnhideWhenUsed="true"
   Name="Table List 1"/>
  <w:LsdException Locked="false" SemiHidden="true" UnhideWhenUsed="true"
   Name="Table List 2"/>
  <w:LsdException Locked="false" SemiHidden="true" UnhideWhenUsed="true"
   Name="Table List 3"/>
  <w:LsdException Locked="false" SemiHidden="true" UnhideWhenUsed="true"
   Name="Table List 4"/>
  <w:LsdException Locked="false" SemiHidden="true" UnhideWhenUsed="true"
   Name="Table List 5"/>
  <w:LsdException Locked="false" SemiHidden="true" UnhideWhenUsed="true"
   Name="Table List 6"/>
  <w:LsdException Locked="false" SemiHidden="true" UnhideWhenUsed="true"
   Name="Table List 7"/>
  <w:LsdException Locked="false" SemiHidden="true" UnhideWhenUsed="true"
   Name="Table List 8"/>
  <w:LsdException Locked="false" SemiHidden="true" UnhideWhenUsed="true"
   Name="Table 3D effects 1"/>
  <w:LsdException Locked="false" SemiHidden="true" UnhideWhenUsed="true"
   Name="Table 3D effects 2"/>
  <w:LsdException Locked="false" SemiHidden="true" UnhideWhenUsed="true"
   Name="Table 3D effects 3"/>
  <w:LsdException Locked="false" SemiHidden="true" UnhideWhenUsed="true"
   Name="Table Contemporary"/>
  <w:LsdException Locked="false" SemiHidden="true" UnhideWhenUsed="true"
   Name="Table Elegant"/>
  <w:LsdException Locked="false" SemiHidden="true" UnhideWhenUsed="true"
   Name="Table Professional"/>
  <w:LsdException Locked="false" SemiHidden="true" UnhideWhenUsed="true"
   Name="Table Subtle 1"/>
  <w:LsdException Locked="false" SemiHidden="true" UnhideWhenUsed="true"
   Name="Table Subtle 2"/>
  <w:LsdException Locked="false" SemiHidden="true" UnhideWhenUsed="true"
   Name="Table Web 1"/>
  <w:LsdException Locked="false" SemiHidden="true" UnhideWhenUsed="true"
   Name="Table Web 2"/>
  <w:LsdException Locked="false" SemiHidden="true" UnhideWhenUsed="true"
   Name="Table Web 3"/>
  <w:LsdException Locked="false" SemiHidden="true" UnhideWhenUsed="true"
   Name="Balloon Text"/>
  <w:LsdException Locked="false" Priority="39" Name="Table Grid"/>
  <w:LsdException Locked="false" SemiHidden="true" UnhideWhenUsed="true"
   Name="Table Theme"/>
  <w:LsdException Locked="false" SemiHidden="true" Name="Placeholder Text"/>
  <w:LsdException Locked="false" Priority="1" QFormat="true" Name="No Spacing"/>
  <w:LsdException Locked="false" Priority="60" Name="Light Shading"/>
  <w:LsdException Locked="false" Priority="61" Name="Light List"/>
  <w:LsdException Locked="false" Priority="62" Name="Light Grid"/>
  <w:LsdException Locked="false" Priority="63" Name="Medium Shading 1"/>
  <w:LsdException Locked="false" Priority="64" Name="Medium Shading 2"/>
  <w:LsdException Locked="false" Priority="65" Name="Medium List 1"/>
  <w:LsdException Locked="false" Priority="66" Name="Medium List 2"/>
  <w:LsdException Locked="false" Priority="67" Name="Medium Grid 1"/>
  <w:LsdException Locked="false" Priority="68" Name="Medium Grid 2"/>
  <w:LsdException Locked="false" Priority="69" Name="Medium Grid 3"/>
  <w:LsdException Locked="false" Priority="70" Name="Dark List"/>
  <w:LsdException Locked="false" Priority="71" Name="Colorful Shading"/>
  <w:LsdException Locked="false" Priority="72" Name="Colorful List"/>
  <w:LsdException Locked="false" Priority="73" Name="Colorful Grid"/>
  <w:LsdException Locked="false" Priority="60" Name="Light Shading Accent 1"/>
  <w:LsdException Locked="false" Priority="61" Name="Light List Accent 1"/>
  <w:LsdException Locked="false" Priority="62" Name="Light Grid Accent 1"/>
  <w:LsdException Locked="false" Priority="63" Name="Medium Shading 1 Accent 1"/>
  <w:LsdException Locked="false" Priority="64" Name="Medium Shading 2 Accent 1"/>
  <w:LsdException Locked="false" Priority="65" Name="Medium List 1 Accent 1"/>
  <w:LsdException Locked="false" SemiHidden="true" Name="Revision"/>
  <w:LsdException Locked="false" Priority="34" QFormat="true"
   Name="List Paragraph"/>
  <w:LsdException Locked="false" Priority="29" QFormat="true" Name="Quote"/>
  <w:LsdException Locked="false" Priority="30" QFormat="true"
   Name="Intense Quote"/>
  <w:LsdException Locked="false" Priority="66" Name="Medium List 2 Accent 1"/>
  <w:LsdException Locked="false" Priority="67" Name="Medium Grid 1 Accent 1"/>
  <w:LsdException Locked="false" Priority="68" Name="Medium Grid 2 Accent 1"/>
  <w:LsdException Locked="false" Priority="69" Name="Medium Grid 3 Accent 1"/>
  <w:LsdException Locked="false" Priority="70" Name="Dark List Accent 1"/>
  <w:LsdException Locked="false" Priority="71" Name="Colorful Shading Accent 1"/>
  <w:LsdException Locked="false" Priority="72" Name="Colorful List Accent 1"/>
  <w:LsdException Locked="false" Priority="73" Name="Colorful Grid Accent 1"/>
  <w:LsdException Locked="false" Priority="60" Name="Light Shading Accent 2"/>
  <w:LsdException Locked="false" Priority="61" Name="Light List Accent 2"/>
  <w:LsdException Locked="false" Priority="62" Name="Light Grid Accent 2"/>
  <w:LsdException Locked="false" Priority="63" Name="Medium Shading 1 Accent 2"/>
  <w:LsdException Locked="false" Priority="64" Name="Medium Shading 2 Accent 2"/>
  <w:LsdException Locked="false" Priority="65" Name="Medium List 1 Accent 2"/>
  <w:LsdException Locked="false" Priority="66" Name="Medium List 2 Accent 2"/>
  <w:LsdException Locked="false" Priority="67" Name="Medium Grid 1 Accent 2"/>
  <w:LsdException Locked="false" Priority="68" Name="Medium Grid 2 Accent 2"/>
  <w:LsdException Locked="false" Priority="69" Name="Medium Grid 3 Accent 2"/>
  <w:LsdException Locked="false" Priority="70" Name="Dark List Accent 2"/>
  <w:LsdException Locked="false" Priority="71" Name="Colorful Shading Accent 2"/>
  <w:LsdException Locked="false" Priority="72" Name="Colorful List Accent 2"/>
  <w:LsdException Locked="false" Priority="73" Name="Colorful Grid Accent 2"/>
  <w:LsdException Locked="false" Priority="60" Name="Light Shading Accent 3"/>
  <w:LsdException Locked="false" Priority="61" Name="Light List Accent 3"/>
  <w:LsdException Locked="false" Priority="62" Name="Light Grid Accent 3"/>
  <w:LsdException Locked="false" Priority="63" Name="Medium Shading 1 Accent 3"/>
  <w:LsdException Locked="false" Priority="64" Name="Medium Shading 2 Accent 3"/>
  <w:LsdException Locked="false" Priority="65" Name="Medium List 1 Accent 3"/>
  <w:LsdException Locked="false" Priority="66" Name="Medium List 2 Accent 3"/>
  <w:LsdException Locked="false" Priority="67" Name="Medium Grid 1 Accent 3"/>
  <w:LsdException Locked="false" Priority="68" Name="Medium Grid 2 Accent 3"/>
  <w:LsdException Locked="false" Priority="69" Name="Medium Grid 3 Accent 3"/>
  <w:LsdException Locked="false" Priority="70" Name="Dark List Accent 3"/>
  <w:LsdException Locked="false" Priority="71" Name="Colorful Shading Accent 3"/>
  <w:LsdException Locked="false" Priority="72" Name="Colorful List Accent 3"/>
  <w:LsdException Locked="false" Priority="73" Name="Colorful Grid Accent 3"/>
  <w:LsdException Locked="false" Priority="60" Name="Light Shading Accent 4"/>
  <w:LsdException Locked="false" Priority="61" Name="Light List Accent 4"/>
  <w:LsdException Locked="false" Priority="62" Name="Light Grid Accent 4"/>
  <w:LsdException Locked="false" Priority="63" Name="Medium Shading 1 Accent 4"/>
  <w:LsdException Locked="false" Priority="64" Name="Medium Shading 2 Accent 4"/>
  <w:LsdException Locked="false" Priority="65" Name="Medium List 1 Accent 4"/>
  <w:LsdException Locked="false" Priority="66" Name="Medium List 2 Accent 4"/>
  <w:LsdException Locked="false" Priority="67" Name="Medium Grid 1 Accent 4"/>
  <w:LsdException Locked="false" Priority="68" Name="Medium Grid 2 Accent 4"/>
  <w:LsdException Locked="false" Priority="69" Name="Medium Grid 3 Accent 4"/>
  <w:LsdException Locked="false" Priority="70" Name="Dark List Accent 4"/>
  <w:LsdException Locked="false" Priority="71" Name="Colorful Shading Accent 4"/>
  <w:LsdException Locked="false" Priority="72" Name="Colorful List Accent 4"/>
  <w:LsdException Locked="false" Priority="73" Name="Colorful Grid Accent 4"/>
  <w:LsdException Locked="false" Priority="60" Name="Light Shading Accent 5"/>
  <w:LsdException Locked="false" Priority="61" Name="Light List Accent 5"/>
  <w:LsdException Locked="false" Priority="62" Name="Light Grid Accent 5"/>
  <w:LsdException Locked="false" Priority="63" Name="Medium Shading 1 Accent 5"/>
  <w:LsdException Locked="false" Priority="64" Name="Medium Shading 2 Accent 5"/>
  <w:LsdException Locked="false" Priority="65" Name="Medium List 1 Accent 5"/>
  <w:LsdException Locked="false" Priority="66" Name="Medium List 2 Accent 5"/>
  <w:LsdException Locked="false" Priority="67" Name="Medium Grid 1 Accent 5"/>
  <w:LsdException Locked="false" Priority="68" Name="Medium Grid 2 Accent 5"/>
  <w:LsdException Locked="false" Priority="69" Name="Medium Grid 3 Accent 5"/>
  <w:LsdException Locked="false" Priority="70" Name="Dark List Accent 5"/>
  <w:LsdException Locked="false" Priority="71" Name="Colorful Shading Accent 5"/>
  <w:LsdException Locked="false" Priority="72" Name="Colorful List Accent 5"/>
  <w:LsdException Locked="false" Priority="73" Name="Colorful Grid Accent 5"/>
  <w:LsdException Locked="false" Priority="60" Name="Light Shading Accent 6"/>
  <w:LsdException Locked="false" Priority="61" Name="Light List Accent 6"/>
  <w:LsdException Locked="false" Priority="62" Name="Light Grid Accent 6"/>
  <w:LsdException Locked="false" Priority="63" Name="Medium Shading 1 Accent 6"/>
  <w:LsdException Locked="false" Priority="64" Name="Medium Shading 2 Accent 6"/>
  <w:LsdException Locked="false" Priority="65" Name="Medium List 1 Accent 6"/>
  <w:LsdException Locked="false" Priority="66" Name="Medium List 2 Accent 6"/>
  <w:LsdException Locked="false" Priority="67" Name="Medium Grid 1 Accent 6"/>
  <w:LsdException Locked="false" Priority="68" Name="Medium Grid 2 Accent 6"/>
  <w:LsdException Locked="false" Priority="69" Name="Medium Grid 3 Accent 6"/>
  <w:LsdException Locked="false" Priority="70" Name="Dark List Accent 6"/>
  <w:LsdException Locked="false" Priority="71" Name="Colorful Shading Accent 6"/>
  <w:LsdException Locked="false" Priority="72" Name="Colorful List Accent 6"/>
  <w:LsdException Locked="false" Priority="73" Name="Colorful Grid Accent 6"/>
  <w:LsdException Locked="false" Priority="19" QFormat="true"
   Name="Subtle Emphasis"/>
  <w:LsdException Locked="false" Priority="21" QFormat="true"
   Name="Intense Emphasis"/>
  <w:LsdException Locked="false" Priority="31" QFormat="true"
   Name="Subtle Reference"/>
  <w:LsdException Locked="false" Priority="32" QFormat="true"
   Name="Intense Reference"/>
  <w:LsdException Locked="false" Priority="33" QFormat="true" Name="Book Title"/>
  <w:LsdException Locked="false" Priority="37" SemiHidden="true"
   UnhideWhenUsed="true" Name="Bibliography"/>
  <w:LsdException Locked="false" Priority="39" SemiHidden="true"
   UnhideWhenUsed="true" QFormat="true" Name="TOC Heading"/>
  <w:LsdException Locked="false" Priority="41" Name="Plain Table 1"/>
  <w:LsdException Locked="false" Priority="42" Name="Plain Table 2"/>
  <w:LsdException Locked="false" Priority="43" Name="Plain Table 3"/>
  <w:LsdException Locked="false" Priority="44" Name="Plain Table 4"/>
  <w:LsdException Locked="false" Priority="45" Name="Plain Table 5"/>
  <w:LsdException Locked="false" Priority="40" Name="Grid Table Light"/>
  <w:LsdException Locked="false" Priority="46" Name="Grid Table 1 Light"/>
  <w:LsdException Locked="false" Priority="47" Name="Grid Table 2"/>
  <w:LsdException Locked="false" Priority="48" Name="Grid Table 3"/>
  <w:LsdException Locked="false" Priority="49" Name="Grid Table 4"/>
  <w:LsdException Locked="false" Priority="50" Name="Grid Table 5 Dark"/>
  <w:LsdException Locked="false" Priority="51" Name="Grid Table 6 Colorful"/>
  <w:LsdException Locked="false" Priority="52" Name="Grid Table 7 Colorful"/>
  <w:LsdException Locked="false" Priority="46"
   Name="Grid Table 1 Light Accent 1"/>
  <w:LsdException Locked="false" Priority="47" Name="Grid Table 2 Accent 1"/>
  <w:LsdException Locked="false" Priority="48" Name="Grid Table 3 Accent 1"/>
  <w:LsdException Locked="false" Priority="49" Name="Grid Table 4 Accent 1"/>
  <w:LsdException Locked="false" Priority="50" Name="Grid Table 5 Dark Accent 1"/>
  <w:LsdException Locked="false" Priority="51"
   Name="Grid Table 6 Colorful Accent 1"/>
  <w:LsdException Locked="false" Priority="52"
   Name="Grid Table 7 Colorful Accent 1"/>
  <w:LsdException Locked="false" Priority="46"
   Name="Grid Table 1 Light Accent 2"/>
  <w:LsdException Locked="false" Priority="47" Name="Grid Table 2 Accent 2"/>
  <w:LsdException Locked="false" Priority="48" Name="Grid Table 3 Accent 2"/>
  <w:LsdException Locked="false" Priority="49" Name="Grid Table 4 Accent 2"/>
  <w:LsdException Locked="false" Priority="50" Name="Grid Table 5 Dark Accent 2"/>
  <w:LsdException Locked="false" Priority="51"
   Name="Grid Table 6 Colorful Accent 2"/>
  <w:LsdException Locked="false" Priority="52"
   Name="Grid Table 7 Colorful Accent 2"/>
  <w:LsdException Locked="false" Priority="46"
   Name="Grid Table 1 Light Accent 3"/>
  <w:LsdException Locked="false" Priority="47" Name="Grid Table 2 Accent 3"/>
  <w:LsdException Locked="false" Priority="48" Name="Grid Table 3 Accent 3"/>
  <w:LsdException Locked="false" Priority="49" Name="Grid Table 4 Accent 3"/>
  <w:LsdException Locked="false" Priority="50" Name="Grid Table 5 Dark Accent 3"/>
  <w:LsdException Locked="false" Priority="51"
   Name="Grid Table 6 Colorful Accent 3"/>
  <w:LsdException Locked="false" Priority="52"
   Name="Grid Table 7 Colorful Accent 3"/>
  <w:LsdException Locked="false" Priority="46"
   Name="Grid Table 1 Light Accent 4"/>
  <w:LsdException Locked="false" Priority="47" Name="Grid Table 2 Accent 4"/>
  <w:LsdException Locked="false" Priority="48" Name="Grid Table 3 Accent 4"/>
  <w:LsdException Locked="false" Priority="49" Name="Grid Table 4 Accent 4"/>
  <w:LsdException Locked="false" Priority="50" Name="Grid Table 5 Dark Accent 4"/>
  <w:LsdException Locked="false" Priority="51"
   Name="Grid Table 6 Colorful Accent 4"/>
  <w:LsdException Locked="false" Priority="52"
   Name="Grid Table 7 Colorful Accent 4"/>
  <w:LsdException Locked="false" Priority="46"
   Name="Grid Table 1 Light Accent 5"/>
  <w:LsdException Locked="false" Priority="47" Name="Grid Table 2 Accent 5"/>
  <w:LsdException Locked="false" Priority="48" Name="Grid Table 3 Accent 5"/>
  <w:LsdException Locked="false" Priority="49" Name="Grid Table 4 Accent 5"/>
  <w:LsdException Locked="false" Priority="50" Name="Grid Table 5 Dark Accent 5"/>
  <w:LsdException Locked="false" Priority="51"
   Name="Grid Table 6 Colorful Accent 5"/>
  <w:LsdException Locked="false" Priority="52"
   Name="Grid Table 7 Colorful Accent 5"/>
  <w:LsdException Locked="false" Priority="46"
   Name="Grid Table 1 Light Accent 6"/>
  <w:LsdException Locked="false" Priority="47" Name="Grid Table 2 Accent 6"/>
  <w:LsdException Locked="false" Priority="48" Name="Grid Table 3 Accent 6"/>
  <w:LsdException Locked="false" Priority="49" Name="Grid Table 4 Accent 6"/>
  <w:LsdException Locked="false" Priority="50" Name="Grid Table 5 Dark Accent 6"/>
  <w:LsdException Locked="false" Priority="51"
   Name="Grid Table 6 Colorful Accent 6"/>
  <w:LsdException Locked="false" Priority="52"
   Name="Grid Table 7 Colorful Accent 6"/>
  <w:LsdException Locked="false" Priority="46" Name="List Table 1 Light"/>
  <w:LsdException Locked="false" Priority="47" Name="List Table 2"/>
  <w:LsdException Locked="false" Priority="48" Name="List Table 3"/>
  <w:LsdException Locked="false" Priority="49" Name="List Table 4"/>
  <w:LsdException Locked="false" Priority="50" Name="List Table 5 Dark"/>
  <w:LsdException Locked="false" Priority="51" Name="List Table 6 Colorful"/>
  <w:LsdException Locked="false" Priority="52" Name="List Table 7 Colorful"/>
  <w:LsdException Locked="false" Priority="46"
   Name="List Table 1 Light Accent 1"/>
  <w:LsdException Locked="false" Priority="47" Name="List Table 2 Accent 1"/>
  <w:LsdException Locked="false" Priority="48" Name="List Table 3 Accent 1"/>
  <w:LsdException Locked="false" Priority="49" Name="List Table 4 Accent 1"/>
  <w:LsdException Locked="false" Priority="50" Name="List Table 5 Dark Accent 1"/>
  <w:LsdException Locked="false" Priority="51"
   Name="List Table 6 Colorful Accent 1"/>
  <w:LsdException Locked="false" Priority="52"
   Name="List Table 7 Colorful Accent 1"/>
  <w:LsdException Locked="false" Priority="46"
   Name="List Table 1 Light Accent 2"/>
  <w:LsdException Locked="false" Priority="47" Name="List Table 2 Accent 2"/>
  <w:LsdException Locked="false" Priority="48" Name="List Table 3 Accent 2"/>
  <w:LsdException Locked="false" Priority="49" Name="List Table 4 Accent 2"/>
  <w:LsdException Locked="false" Priority="50" Name="List Table 5 Dark Accent 2"/>
  <w:LsdException Locked="false" Priority="51"
   Name="List Table 6 Colorful Accent 2"/>
  <w:LsdException Locked="false" Priority="52"
   Name="List Table 7 Colorful Accent 2"/>
  <w:LsdException Locked="false" Priority="46"
   Name="List Table 1 Light Accent 3"/>
  <w:LsdException Locked="false" Priority="47" Name="List Table 2 Accent 3"/>
  <w:LsdException Locked="false" Priority="48" Name="List Table 3 Accent 3"/>
  <w:LsdException Locked="false" Priority="49" Name="List Table 4 Accent 3"/>
  <w:LsdException Locked="false" Priority="50" Name="List Table 5 Dark Accent 3"/>
  <w:LsdException Locked="false" Priority="51"
   Name="List Table 6 Colorful Accent 3"/>
  <w:LsdException Locked="false" Priority="52"
   Name="List Table 7 Colorful Accent 3"/>
  <w:LsdException Locked="false" Priority="46"
   Name="List Table 1 Light Accent 4"/>
  <w:LsdException Locked="false" Priority="47" Name="List Table 2 Accent 4"/>
  <w:LsdException Locked="false" Priority="48" Name="List Table 3 Accent 4"/>
  <w:LsdException Locked="false" Priority="49" Name="List Table 4 Accent 4"/>
  <w:LsdException Locked="false" Priority="50" Name="List Table 5 Dark Accent 4"/>
  <w:LsdException Locked="false" Priority="51"
   Name="List Table 6 Colorful Accent 4"/>
  <w:LsdException Locked="false" Priority="52"
   Name="List Table 7 Colorful Accent 4"/>
  <w:LsdException Locked="false" Priority="46"
   Name="List Table 1 Light Accent 5"/>
  <w:LsdException Locked="false" Priority="47" Name="List Table 2 Accent 5"/>
  <w:LsdException Locked="false" Priority="48" Name="List Table 3 Accent 5"/>
  <w:LsdException Locked="false" Priority="49" Name="List Table 4 Accent 5"/>
  <w:LsdException Locked="false" Priority="50" Name="List Table 5 Dark Accent 5"/>
  <w:LsdException Locked="false" Priority="51"
   Name="List Table 6 Colorful Accent 5"/>
  <w:LsdException Locked="false" Priority="52"
   Name="List Table 7 Colorful Accent 5"/>
  <w:LsdException Locked="false" Priority="46"
   Name="List Table 1 Light Accent 6"/>
  <w:LsdException Locked="false" Priority="47" Name="List Table 2 Accent 6"/>
  <w:LsdException Locked="false" Priority="48" Name="List Table 3 Accent 6"/>
  <w:LsdException Locked="false" Priority="49" Name="List Table 4 Accent 6"/>
  <w:LsdException Locked="false" Priority="50" Name="List Table 5 Dark Accent 6"/>
  <w:LsdException Locked="false" Priority="51"
   Name="List Table 6 Colorful Accent 6"/>
  <w:LsdException Locked="false" Priority="52"
   Name="List Table 7 Colorful Accent 6"/>
  <w:LsdException Locked="false" SemiHidden="true" UnhideWhenUsed="true"
   Name="Mention"/>
  <w:LsdException Locked="false" SemiHidden="true" UnhideWhenUsed="true"
   Name="Smart Hyperlink"/>
  <w:LsdException Locked="false" SemiHidden="true" UnhideWhenUsed="true"
   Name="Hashtag"/>
  <w:LsdException Locked="false" SemiHidden="true" UnhideWhenUsed="true"
   Name="Unresolved Mention"/>
  <w:LsdException Locked="false" SemiHidden="true" UnhideWhenUsed="true"
   Name="Smart Link"/>
 </w:LatentStyles>
</xml><![endif]-->
<style scoped>
<!--
\n",
       "    .dataframe tbody tr th:only-of-type {\n",
       "        vertical-align: middle;\n",
       "    }\n",
       "\n",
       "    .dataframe tbody tr th {\n",
       "        vertical-align: top;\n",
       "    }\n",
       "\n",
       "    .dataframe thead th {\n",
       "        text-align: right;\n",
       "    }\n",
       "</style>\n",
       "<table border=\"1\" class=\"dataframe\">\n",
       "  <thead>\n",
       "    <tr style=\"text-align: right;\">\n",
       "      <th></th>\n",
       "      <th>Hours_Studied</th>\n",
       "      <th>Attendance</th>\n",
       "      <th>Parental_Involvement</th>\n",
       "      <th>Access_to_Resources</th>\n",
       "      <th>Extracurricular_Activities</th>\n",
       "      <th>Sleep_Hours</th>\n",
       "      <th>Previous_Scores</th>\n",
       "      <th>Motivation_Level</th>\n",
       "      <th>Internet_Access</th>\n",
       "      <th>Tutoring_Sessions</th>\n",
       "      <th>Family_Income</th>\n",
       "      <th>Teacher_Quality</th>\n",
       "      <th>School_Type</th>\n",
       "      <th>Peer_Influence</th>\n",
       "      <th>Physical_Activity</th>\n",
       "      <th>Learning_Disabilities</th>\n",
       "      <th>Parental_Education_Level</th>\n",
       "      <th>Distance_from_Home</th>\n",
       "      <th>Gender</th>\n",
       "      <th>Exam_Score</th>\n",
       "    </tr>\n",
       "  </thead>\n",
       "  <tbody>\n",
       "    <tr>\n",
       "      <th>0</th>\n",
       "      <td>23</td>\n",
       "      <td>84</td>\n",
       "      <td>Low</td>\n",
       "      <td>High</td>\n",
       "      <td>No</td>\n",
       "      <td>7</td>\n",
       "      <td>73</td>\n",
       "      <td>Low</td>\n",
       "      <td>Yes</td>\n",
       "      <td>0</td>\n",
       "      <td>Low</td>\n",
       "      <td>Medium</td>\n",
       "      <td>Public</td>\n",
       "      <td>Positive</td>\n",
       "      <td>3</td>\n",
       "      <td>No</td>\n",
       "      <td>High School</td>\n",
       "      <td>Near</td>\n",
       "      <td>Male</td>\n",
       "      <td>67</td>\n",
       "    </tr>\n",
       "    <tr>\n",
       "      <th>1</th>\n",
       "      <td>19</td>\n",
       "      <td>64</td>\n",
       "      <td>Low</td>\n",
       "      <td>Medium</td>\n",
       "      <td>No</td>\n",
       "      <td>8</td>\n",
       "      <td>59</td>\n",
       "      <td>Low</td>\n",
       "      <td>Yes</td>\n",
       "      <td>2</td>\n",
       "      <td>Medium</td>\n",
       "      <td>Medium</td>\n",
       "      <td>Public</td>\n",
       "      <td>Negative</td>\n",
       "      <td>4</td>\n",
       "      <td>No</td>\n",
       "      <td>College</td>\n",
       "      <td>Moderate</td>\n",
       "      <td>Female</td>\n",
       "      <td>61</td>\n",
       "    </tr>\n",
       "    <tr>\n",
       "      <th>2</th>\n",
       "      <td>24</td>\n",
       "      <td>98</td>\n",
       "      <td>Medium</td>\n",
       "      <td>Medium</td>\n",
       "      <td>Yes</td>\n",
       "      <td>7</td>\n",
       "      <td>91</td>\n",
       "      <td>Medium</td>\n",
       "      <td>Yes</td>\n",
       "      <td>2</td>\n",
       "      <td>Medium</td>\n",
       "      <td>Medium</td>\n",
       "      <td>Public</td>\n",
       "      <td>Neutral</td>\n",
       "      <td>4</td>\n",
       "      <td>No</td>\n",
       "      <td>Postgraduate</td>\n",
       "      <td>Near</td>\n",
       "      <td>Male</td>\n",
       "      <td>74</td>\n",
       "    </tr>\n",
       "    <tr>\n",
       "      <th>3</th>\n",
       "      <td>29</td>\n",
       "      <td>89</td>\n",
       "      <td>Low</td>\n",
       "      <td>Medium</td>\n",
       "      <td>Yes</td>\n",
       "      <td>8</td>\n",
       "      <td>98</td>\n",
       "      <td>Medium</td>\n",
       "      <td>Yes</td>\n",
       "      <td>1</td>\n",
       "      <td>Medium</td>\n",
       "      <td>Medium</td>\n",
       "      <td>Public</td>\n",
       "      <td>Negative</td>\n",
       "      <td>4</td>\n",
       "      <td>No</td>\n",
       "      <td>High School</td>\n",
       "      <td>Moderate</td>\n",
       "      <td>Male</td>\n",
       "      <td>71</td>\n",
       "    </tr>\n",
       "    <tr>\n",
       "      <th>4</th>\n",
       "      <td>19</td>\n",
       "      <td>92</td>\n",
       "      <td>Medium</td>\n",
       "      <td>Medium</td>\n",
       "      <td>Yes</td>\n",
       "      <td>6</td>\n",
       "      <td>65</td>\n",
       "      <td>Medium</td>\n",
       "      <td>Yes</td>\n",
       "      <td>3</td>\n",
       "      <td>Medium</td>\n",
       "      <td>High</td>\n",
       "      <td>Public</td>\n",
       "      <td>Neutral</td>\n",
       "      <td>4</td>\n",
       "      <td>No</td>\n",
       "      <td>College</td>\n",
       "      <td>Near</td>\n",
       "      <td>Female</td>\n",
       "      <td>70</td>\n",
       "    </tr>\n",
       "  </tbody>\n",
       "</table>\n",
       "</div>"
      ],
      "text/plain": [
       "   Hours_Studied  Attendance Parental_Involvement Access_to_Resources  \\\n",
       "0             23          84                  Low                High   \n",
       "1             19          64                  Low              Medium   \n",
       "2             24          98               Medium              Medium   \n",
       "3             29          89                  Low              Medium   \n",
       "4             19          92               Medium              Medium   \n",
       "\n",
       "  Extracurricular_Activities  Sleep_Hours  Previous_Scores Motivation_Level  \\\n",
       "0                         No            7               73              Low   \n",
       "1                         No            8               59              Low   \n",
       "2                        Yes            7               91           Medium   \n",
       "3                        Yes            8               98           Medium   \n",
       "4                        Yes            6               65           Medium   \n",
       "\n",
       "  Internet_Access  Tutoring_Sessions Family_Income Teacher_Quality  \\\n",
       "0             Yes                  0           Low          Medium   \n",
       "1             Yes                  2        Medium          Medium   \n",
       "2             Yes                  2        Medium          Medium   \n",
       "3             Yes                  1        Medium          Medium   \n",
       "4             Yes                  3        Medium            High   \n",
       "\n",
       "  School_Type Peer_Influence  Physical_Activity Learning_Disabilities  \\\n",
       "0      Public       Positive                  3                    No   \n",
       "1      Public       Negative                  4                    No   \n",
       "2      Public        Neutral                  4                    No   \n",
       "3      Public       Negative                  4                    No   \n",
       "4      Public        Neutral                  4                    No   \n",
       "\n",
       "  Parental_Education_Level Distance_from_Home  Gender  Exam_Score  \n",
       "0              High School               Near    Male          67  \n",
       "1                  College           Moderate  Female          61  \n",
       "2             Postgraduate               Near    Male          74  \n",
       "3              High School           Moderate    Male          71  \n",
       "4                  College               Near  Female          70  "
      ]
     },
     "execution_count": 9,
     "metadata": {}
],
   "source": [
    "import pandas as pd\n",
    "import numpy as np\n",
    "import matplotlib.pyplot as plt\n",
    "%matplotlib inline\n",
    "import seaborn as sns\n",
    "from sklearn.linear_model import LinearRegression\n",
    "\n",
    "performance = pd.read_csv(\"StudentPerformanceFactors.csv\")\n",
    "performance.head()"
   ]
  },
  {
   "cell_type": "code",
   "execution_count": 10,
   "id": "16530a4f-739e-4776-ab8c-397d393d31b6",
   "metadata": {},
   "outputs": [
    {
     "data": {
      "text/html": [
       "<div>\n",
       "<style scoped>\n",
       "    .dataframe tbody tr th:only-of-type {\n",
       "        vertical-align: middle;\n",
       "    }\n",
       "\n",
       "    .dataframe tbody tr th {\n",
       "        vertical-align: top;\n",
       "    }\n",
       "\n",
       "    .dataframe thead th {\n",
       "        text-align: right;\n",
       "    }\n",
       "</style>\n",
       "<table border=\"1\" class=\"dataframe\">\n",
       "  <thead>\n",
       "    <tr style=\"text-align: right;\">\n",
       "      <th></th>\n",
       "      <th>Hours_Studied</th>\n",
       "      <th>Attendance</th>\n",
       "      <th>Sleep_Hours</th>\n",
       "      <th>Previous_Scores</th>\n",
       "      <th>Tutoring_Sessions</th>\n",
       "      <th>Physical_Activity</th>\n",
       "      <th>n_parental_involvement</th>\n",
       "      <th>n_access_to_resources</th>\n",
       "      <th>n_extracurriculars</th>\n",
       "      <th>n_motivation</th>\n",
       "      <th>n_internet</th>\n",
       "      <th>n_family_income</th>\n",
       "      <th>n_teacher_quality</th>\n",
       "      <th>n_schooltype</th>\n",
       "      <th>n_peer_influence</th>\n",
       "      <th>n_learning_disabilities</th>\n",
       "      <th>n_parentaleducation</th>\n",
       "      <th>n_distance_from_home</th>\n",
       "      <th>n_gender</th>\n",
       "      <th>ExamScore</th>\n",
       "    </tr>\n",
       "  </thead>\n",
       "  <tbody>\n",
       "    <tr>\n",
       "      <th>0</th>\n",
       "      <td>23</td>\n",
       "      <td>84</td>\n",
       "      <td>7</td>\n",
       "      <td>73</td>\n",
       "      <td>0</td>\n",
       "      <td>3</td>\n",
       "      <td>0</td>\n",
       "      <td>2</td>\n",
       "      <td>0</td>\n",
       "      <td>0</td>\n",
       "      <td>1</td>\n",
       "      <td>0</td>\n",
       "      <td>1</td>\n",
       "      <td>0</td>\n",
       "      <td>2</td>\n",
       "      <td>0</td>\n",
       "      <td>0</td>\n",
       "      <td>0</td>\n",
       "      <td>0</td>\n",
       "      <td>67</td>\n",
       "    </tr>\n",
       "    <tr>\n",
       "      <th>1</th>\n",
       "      <td>19</td>\n",
       "      <td>64</td>\n",
       "      <td>8</td>\n",
       "      <td>59</td>\n",
       "      <td>2</td>\n",
       "      <td>4</td>\n",
       "      <td>0</td>\n",
       "      <td>1</td>\n",
       "      <td>0</td>\n",
       "      <td>0</td>\n",
       "      <td>1</td>\n",
       "      <td>1</td>\n",
       "      <td>1</td>\n",
       "      <td>0</td>\n",
       "      <td>0</td>\n",
       "      <td>0</td>\n",
       "      <td>1</td>\n",
       "      <td>1</td>\n",
       "      <td>1</td>\n",
       "      <td>61</td>\n",
       "    </tr>\n",
       "    <tr>\n",
       "      <th>2</th>\n",
       "      <td>24</td>\n",
       "      <td>98</td>\n",
       "      <td>7</td>\n",
       "      <td>91</td>\n",
       "      <td>2</td>\n",
       "      <td>4</td>\n",
       "      <td>1</td>\n",
       "      <td>1</td>\n",
       "      <td>1</td>\n",
       "      <td>1</td>\n",
       "      <td>1</td>\n",
       "      <td>1</td>\n",
       "      <td>1</td>\n",
       "      <td>0</td>\n",
       "      <td>1</td>\n",
       "      <td>0</td>\n",
       "      <td>2</td>\n",
       "      <td>0</td>\n",
       "      <td>0</td>\n",
       "      <td>74</td>\n",
       "    </tr>\n",
       "    <tr>\n",
       "      <th>3</th>\n",
       "      <td>29</td>\n",
       "      <td>89</td>\n",
       "      <td>8</td>\n",
       "      <td>98</td>\n",
       "      <td>1</td>\n",
       "      <td>4</td>\n",
       "      <td>0</td>\n",
       "      <td>1</td>\n",
       "      <td>1</td>\n",
       "      <td>1</td>\n",
       "      <td>1</td>\n",
       "      <td>1</td>\n",
       "      <td>1</td>\n",
       "      <td>0</td>\n",
       "      <td>0</td>\n",
       "      <td>0</td>\n",
       "      <td>0</td>\n",
       "      <td>1</td>\n",
       "      <td>0</td>\n",
       "      <td>71</td>\n",
       "    </tr>\n",
       "    <tr>\n",
       "      <th>4</th>\n",
       "      <td>19</td>\n",
       "      <td>92</td>\n",
       "      <td>6</td>\n",
       "      <td>65</td>\n",
       "      <td>3</td>\n",
       "      <td>4</td>\n",
       "      <td>1</td>\n",
       "      <td>1</td>\n",
       "      <td>1</td>\n",
       "      <td>1</td>\n",
       "      <td>1</td>\n",
       "      <td>1</td>\n",
       "      <td>2</td>\n",
       "      <td>0</td>\n",
       "      <td>1</td>\n",
       "      <td>0</td>\n",
       "      <td>1</td>\n",
       "      <td>0</td>\n",
       "      <td>1</td>\n",
       "      <td>70</td>\n",
       "    </tr>\n",
       "  </tbody>\n",
       "</table>\n",
       "</div>"
      ],
      "text/plain": [
       "   Hours_Studied  Attendance  Sleep_Hours  Previous_Scores  Tutoring_Sessions  \\\n",
       "0             23          84            7               73                  0   \n",
       "1             19          64            8               59                  2   \n",
       "2             24          98            7               91                  2   \n",
       "3             29          89            8               98                  1   \n",
       "4             19          92            6               65                  3   \n",
       "\n",
       "   Physical_Activity  n_parental_involvement  n_access_to_resources  \\\n",
       "0                  3                       0                      2   \n",
       "1                  4                       0                      1   \n",
       "2                  4                       1                      1   \n",
       "3                  4                       0                      1   \n",
       "4                  4                       1                      1   \n",
       "\n",
       "   n_extracurriculars  n_motivation  n_internet  n_family_income  \\\n",
       "0                   0             0           1                0   \n",
       "1                   0             0           1                1   \n",
       "2                   1             1           1                1   \n",
       "3                   1             1           1                1   \n",
       "4                   1             1           1                1   \n",
       "\n",
       "   n_teacher_quality  n_schooltype  n_peer_influence  n_learning_disabilities  \\\n",
       "0                  1             0                 2                        0   \n",
       "1                  1             0                 0                        0   \n",
       "2                  1             0                 1                        0   \n",
       "3                  1             0                 0                        0   \n",
       "4                  2             0                 1                        0   \n",
       "\n",
       "   n_parentaleducation  n_distance_from_home  n_gender  ExamScore  \n",
       "0                    0                     0         0         67  \n",
       "1                    1                     1         1         61  \n",
       "2                    2                     0         0         74  \n",
       "3                    0                     1         0         71  \n",
       "4                    1                     0         1         70  "
      ]
     },
     "execution_count": 10,
     "metadata": {},
     "output_type": "execute_result"
    }
   ],
   "source": [
    "# make a new dataframe with encoded NUMERIC variables\n",
    "encoded = performance\n",
    "\n",
    "encoded[\"n_parental_involvement\"] = [0 if x == 'Low' else 1 if x == 'Medium' else 2 for x in encoded[\"Parental_Involvement\"]] # list comprehension\n",
    "encoded[\"n_access_to_resources\"] = [0 if x == 'Low' else 1 if x == 'Medium' else 2 for x in encoded[\"Access_to_Resources\"]]\n",
    "encoded[\"n_extracurriculars\"] = [0 if x == 'No' else 1 for x in encoded[\"Extracurricular_Activities\"]]\n",
    "encoded[\"n_motivation\"] = [0 if x == 'Low' else 1 if x == 'Medium' else 2 for x in encoded[\"Motivation_Level\"]]\n",
    "encoded[\"n_internet\"] = [0 if x == 'No' else 1 for x in encoded[\"Internet_Access\"]]\n",
    "encoded[\"n_family_income\"] = [0 if x == 'Low' else 1 if x == 'Medium' else 2 for x in encoded[\"Family_Income\"]]\n",
    "encoded[\"n_teacher_quality\"] = [0 if x == 'Low' else 1 if x == 'Medium' else 2 for x in encoded[\"Teacher_Quality\"]]\n",
    "encoded[\"n_schooltype\"] = [0 if x == 'Public' else 1 for x in encoded[\"School_Type\"]]\n",
    "encoded[\"n_peer_influence\"] = [0 if x == 'Negative' else 1 if x == 'Neutral' else 2 for x in encoded[\"Peer_Influence\"]]\n",
    "encoded[\"n_learning_disabilities\"] = [0 if x == 'No' else 1 for x in encoded[\"Learning_Disabilities\"]]\n",
    "encoded[\"n_parentaleducation\"] = [0 if x == 'High School' else 1 if x == 'College' else 2 for x in encoded[\"Parental_Education_Level\"]]\n",
    "encoded[\"n_distance_from_home\"] = [0 if x == 'Near' else 1 if x == 'Moderate' else 2 for x in encoded[\"Distance_from_Home\"]]\n",
    "encoded[\"n_gender\"] = [0 if x == 'Male' else 1 for x in encoded[\"Gender\"]]\n",
    "\n",
    "# move exam scores column to the end\n",
    "encoded[\"ExamScore\"] = encoded[\"Exam_Score\"]\n",
    "\n",
    "encoded = encoded.drop(columns=[\"Parental_Involvement\", \"Access_to_Resources\", \"Extracurricular_Activities\", \"Motivation_Level\", \"Internet_Access\",\n",
    "                     \"Family_Income\", \"Teacher_Quality\", \"School_Type\", \"Peer_Influence\", \"Learning_Disabilities\", \"Parental_Education_Level\",\n",
    "                     \"Distance_from_Home\", \"Gender\", \"Exam_Score\"])\n",
    "\n",
    "encoded.head()"
   ]
  }
: 4,
   "id": "4127ede3-c533-4899-a6f4-24e75235ebfe",
   "metadata": {}
: [
    {
     "data": {
      "text/plain": [
       "(array([  68., 1384., 2906., 2019.,  175.,   16.,   11.,    7.,   11.,\n",
       "          10.]),\n",
       " array([ 55. ,  59.6,  64.2,  68.8,  73.4,  78. ,  82.6,  87.2,  91.8,\n",
       "         96.4, 101. ]),\n",
       " <BarContainer object of 10 artists>)"
      ]
     },
     "execution_count": 4,
     "metadata": {},
     "output_type": "execute_result"
    }
: [
       "<Figure size 640x480 with 1 Axes>"
      ]
     },
     "metadata": {}
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",
      "text/plain": [
       "<Figure size 1200x1000 with 2 Axes>"
      ]
     },
     "metadata": {},
     "output_type": "display_data"
    }
   ],
   "source": [
    "corr_matrix = encoded.corr()\n",
    "\n",
    "# correlation heatmap\n",
    "plt.figure(figsize=(12, 10))\n",
    "sns.heatmap(corr_matrix, annot=True, fmt=\".2f\", cmap=\"coolwarm\", vmin=-1, vmax=1)\n",
    "plt.show()"
   ]
  }
: 6,
   "id": "62144ba9-f433-410a-b1c8-699155b2a251",
   "metadata": {}
: [
    {
     "data": {
      "image/png": "iVBORw0KGgoAAAANSUhEUgAAAbUAAAE6CAYAAACRTMzQAAAAOXRFWHRTb2Z0d2FyZQBNYXRwbG90bGliIHZlcnNpb24zLjguNCwgaHR0cHM6Ly9tYXRwbG90bGliLm9yZy8fJSN1AAAACXBIWXMAAA9hAAAPYQGoP6dpAABz5UlEQVR4nO2deVxU1f//XzPMMAyLCIIsioiIhAuIoCZmmOsns+xji2W5ZKVmfZS0NM3ccknLpT6WZZaWfU3rV/YpW9TULFMTkcUtV8QNXBAE2Yc5vz9Od2buLDADM8Ms7+fjMQ+Yu77vmXvP+57z3iSMMQaCIAiCcAGkTS0AQRAEQVgLUmoEQRCEy0BKjSAIgnAZSKkRBEEQLgMpNYIgCMJlIKVGEARBuAyk1AiCIAiXgZQaQRAE4TKQUiMIgiBchkYptQ0bNkAikeDw4cMmt7lw4QIkEgk2bNjQmFM1Gb/99hskEonm4+HhgeDgYDz44IN1XrerIfzWFy5caGpR6qS+e3Lo0KFo27atfYWyASdPnsSoUaPQrl07eHl5ISgoCN26dcNLL72EkpISzXabNm3CqlWrbCLD2LFjDdpSIpFg3rx5VjuHo/Qfwn1l6vPbb781qXwNwdx7yNmQ2foEYWFhOHDgAKKjo219KpuyePFi3HfffaipqUFmZibmz5+P1NRUZGVlISYmpqnFszkPPPAADhw4gLCwsKYWxe3JzMxE7969ERcXhzlz5qBt27a4efMmsrOzsXnzZrzyyito1qwZAK7Ujh07hrS0NLvIduDAAbRu3dou52oK1q9fj7vuustgeceOHZtAmoZjyT3kbNhcqSkUCtx99922Pk2jKC8vh7e3d53bxMTEaK6jT58+aN68OcaMGYMvvvgC8+fPt4eYGsyR19oEBwcjODjYrud0JSoqKuDl5QWJRNLoY61atQpSqRS//fYb/Pz8NMsfffRRvPnmm2jKdK6O/qw3ls6dOyM5ObmpxWg0jnQPWbs/s7lNzdj0wbx58yCRSHD8+HE8+eST8Pf3R0hICMaNG4fbt2+L9meM4YMPPkDXrl2hVCoREBCARx99FOfPnxdtt3PnTgwbNgytW7eGl5cX2rdvjwkTJuDmzZui7YRzHzlyBI8++igCAgIaNIoUbuxr166Jlp85cwYjR45Ey5YtoVAoEBcXh/fff99g/+PHj2PQoEHw9vZGcHAwXnzxRfz4448GUxl9+/ZF586d8fvvvyMlJQXe3t4YN24cAKCkpASvvPIKoqKi4OnpiVatWiEtLQ1lZWWic3399dfo2bMn/P394e3tjXbt2mmOAQBqtRoLFy5EbGwslEolmjdvjvj4eLz77ruabUxNP3766adISEiAl5cXAgMD8e9//xsnT54UbTN27Fj4+vri7NmzGDJkCHx9fREREYFp06ahqqrK/Ea3EZWVlZg5c6aoHV988UUUFxeLtjM1tda2bVuMHTtW811oqx07dmDcuHEIDg6Gt7c3qqqqcOPGDYwfPx4RERFQKBQIDg5G79698euvv5otb2FhIZo1awZfX1+j6wXF2bdvX/z444/Iy8sTTZUB2ml1/WkzU9N9GzZsQGxsrOae/vzzz02eW7+NCgoKMGHCBLRu3Rqenp6IiorC/PnzoVKpRNtdvXoVjz/+OPz8/ODv748RI0agoKCg3vbIzs6GRCLBJ598YrDu559/hkQiwffffw8AVmn/uti8eTMkEglWr14tWj537lx4eHhg586dmmXz589Hz549ERgYiGbNmqFbt2745JNPDBRK27ZtMXToUGzbtg2JiYlQKpWIi4vDtm3bAPDfJi4uDj4+PujRo4dZZhFz7yGBX375Bf3799f0IXFxcViyZIlom++//x69evWCt7c3/Pz8MHDgQBw4cEC0TV39r7l9fX3YfKRWF4888ghGjBiBZ599FkePHsXMmTMB8I5SYMKECdiwYQMmT56MpUuX4tatW1iwYAFSUlKQnZ2NkJAQAMC5c+fQq1cvPPfcc/D398eFCxewYsUK3HPPPTh69Cjkcrno3MOHD8cTTzyBiRMnGigBc8jNzQUAdOjQQbPsxIkTSElJQZs2bbB8+XKEhoZi+/btmDx5Mm7evIm5c+cCAPLz85GamgofHx+sWbMGLVu2xJdffomXXnrJ6Lny8/Px9NNPY/r06Vi8eDGkUinKy8uRmpqKy5cvY9asWYiPj8fx48cxZ84cHD16FL/++iskEgkOHDiAESNGYMSIEZg3bx68vLyQl5eH3bt3a46/bNkyzJs3D7Nnz8a9996Lmpoa/P333waduj5LlizBrFmz8OSTT2LJkiUoLCzEvHnz0KtXL6Snp4umZWtqavDQQw/h2WefxbRp0/D777/jzTffhL+/P+bMmWNx+9dHbW2tQacJwKDDYIzh4Ycfxq5duzBz5kz06dMHOTk5mDt3Lg4cOIADBw5AoVA0SIZx48bhgQcewMaNG1FWVga5XI5Ro0bhyJEjWLRoETp06IDi4mIcOXIEhYWFZh+3V69e+PHHH/HUU09hwoQJ6NGjB5RKpcF2H3zwAcaPH49z585h69atDboGgHeazzzzDIYNG4bly5fj9u3bmDdvHqqqqiCV1v1eXFBQgB49ekAqlWLOnDmIjo7GgQMHsHDhQly4cAHr168HwEeyAwYMwNWrV7FkyRJ06NABP/74I0aMGFGvfAkJCUhMTMT69evx7LPPGsjesmVLDBkyBAAa3f7G7ivB1g4ATzzxBPbu3Ytp06bh7rvvRnJyMnbv3o2FCxdi1qxZGDhwoGa/CxcuYMKECWjTpg0A4ODBg/jPf/6DK1euGDwT2dnZmDlzJl5//XX4+/tj/vz5GD58OGbOnIldu3Zh8eLFkEgkmDFjBoYOHYrc3Fyj94SAufcQAHzyySd4/vnnkZqaig8//BAtW7bE6dOncezYMc02mzZtwlNPPYVBgwbhyy+/RFVVFZYtW4a+ffti165duOeee0THNNb/mtvX1wtrBOvXr2cAWHp6usltcnNzGQC2fv16zbK5c+cyAGzZsmWibSdNmsS8vLyYWq1mjDF24MABBoAtX75ctN2lS5eYUqlk06dPN3pOtVrNampqWF5eHgPA/ve//xmce86cOWZd4549exgAtmXLFlZTU8PKy8vZn3/+yWJjY1nHjh1ZUVGRZtvBgwez1q1bs9u3b4uO8dJLLzEvLy9269Ytxhhjr776KpNIJOz48eOi7QYPHswAsD179miWpaamMgBs165dom2XLFnCpFKpQdv/v//3/xgA9tNPPzHGGHvnnXcYAFZcXGzyGocOHcq6du1aZzsIv3Vubi5jjLGioiKmVCrZkCFDRNtdvHiRKRQKNnLkSM2yMWPGMADsq6++Em07ZMgQFhsbW+d5LUWQs65PZGSkZvtffvnF6L24ZcsWBoCtXbtWswwAmzt3rsE5IyMj2ZgxYwxkGD16tMG2vr6+LC0trVHXWFlZyR5++GHN9Xh4eLDExET2+uuvs+vXr4u2feCBB0TXKyDc17r3GmOGz2ttbS0LDw9n3bp10zyXjDF24cIFJpfLDY6t30YTJkxgvr6+LC8vT7SdcF8Kz8CaNWsMnlXGGHv++ecN+g9jvPfeewwAO3XqlGbZrVu3mEKhYNOmTdMsa2j713VfeXh4iLatrKxkiYmJLCoqip04cYKFhISw1NRUplKpTB6/traW1dTUsAULFrAWLVqI2joyMpIplUp2+fJlzbKsrCwGgIWFhbGysjLN8u+++44BYN9//32d12PuPVRaWsqaNWvG7rnnHpFM+rKHh4ezLl26sNraWtG+LVu2ZCkpKZplpvrfhvb1xmhSl/6HHnpI9D0+Ph6VlZW4fv06AGDbtm2QSCR4+umnoVKpNJ/Q0FAkJCSIpk6uX7+OiRMnIiIiAjKZDHK5HJGRkQBgMB0G8FGiJYwYMQJyuRze3t7o3bs3SkpK8OOPP6J58+YA+BTWrl278O9//xve3t4ieYcMGYLKykocPHgQALB371507tzZwLj85JNPGj13QEAA+vXrJ1q2bds2dO7cGV27dhWda/DgwaJppe7duwMAHn/8cXz11Ve4cuWKwfF79OiB7OxsTJo0Cdu3bzfL8+nAgQOoqKgQTbsBQEREBPr164ddu3aJlkskEjz44IOiZfHx8cjLy6vzPGq1WnR9tbW19coGAJ9//jnS09MNPvpvjMKIVf86HnvsMfj4+BhchyUYu8d69OiBDRs2YOHChTh48CBqamosPq5CocDWrVtx4sQJrFy5Ek888QRu3LiBRYsWIS4uDqdOnWqwzPqcOnUKV69exciRI0VTUpGRkUhJSal3/23btuG+++5DeHi46He8//77AfBnAQD27NkDPz8/gz5h5MiRZsn51FNPQaFQiKZNhRHDM888o1nW2PY3dl/99ddfom0UCgW++uorFBYWolu3bmCM4csvv9SM5gR2796NAQMGwN/fHx4eHpDL5ZgzZw4KCws1faBA165d0apVK833uLg4AHyKWdceJSyv77ky9x7av38/SkpKMGnSJJP2YOEeGTVqlGjk7uvri0ceeQQHDx5EeXm5aB/9Z8OSvr4+mlSptWjRQvRdmOapqKgAwO1VjDGEhIRALpeLPgcPHtTYy9RqNQYNGoRvv/0W06dPx65du3Do0CGNEhGOp4ulXnxLly5Feno69u7di9dffx3Xrl3Dww8/rLEJFRYWQqVS4b///a+BrMLUhyBvYWGh0aG0qeG1MVmvXbuGnJwcg3P5+fmBMaY517333ovvvvsOKpUKo0ePRuvWrdG5c2d8+eWXmmPNnDkT77zzDg4ePIj7778fLVq0QP/+/eucmxema4zJFh4ebjCd4+3tDS8vL9EyhUKByspKk+cAgAULFoiuz1z7Z1xcHJKTkw0+/v7+Btchk8kMnGAkEglCQ0MtmhbUx1jbbNmyBWPGjMG6devQq1cvBAYGYvTo0WbZjvSJi4tDWloavvjiC1y8eBErVqxAYWEh3njjjQbLrI9w/aGhoQbrjC3T59q1a/jhhx8M7tNOnToBqP+ZMOccABAYGIiHHnoIn3/+uebFZ8OGDejRo4fmXEDj29/YfZWUlGSwXfv27dGnTx9UVlbiqaeeMrgXDh06hEGDBgEAPv74Y/z5559IT0/H66+/DsCwzwoMDBR99/T0rHN5fc+V7vXUdQ/duHEDAOr0aK2vL1Cr1SgqKhIt19/W3L7eHJrUplYfQUFBkEgk+OOPP4zaNYRlx44dQ3Z2NjZs2IAxY8Zo1p89e9bksS31QmvXrp3GOeTee++FUqnE7Nmz8d///hevvPIKAgIC4OHhgVGjRuHFF180eoyoqCgAXJnrO5gAMPlgGZM1KCgISqVSZH/UXy8wbNgwDBs2DFVVVTh48CCWLFmCkSNHom3btujVqxdkMhmmTp2KqVOnori4GL/++itmzZqFwYMH49KlS0Y9k4QXkvz8fIN1V69eFZ2/MYwfPx5Dhw7VfG+ofcsULVq0gEqlwo0bN0SKjTGGgoICzUhXOLcxxxZTis/U77Zq1SqsWrUKFy9exPfff4/XXnsN169fxy+//NLg65BIJHj55ZexYMECka3DFMILhv716Hcewu9s7N40RxEEBQUhPj4eixYtMro+PDxcc55Dhw416BwCzzzzDL7++mvs3LkTbdq0QXp6OtasWWMgjy3aX59169bhxx9/RI8ePbB69WqMGDECPXv21KzfvHkz5HI5tm3bJnrZ++6776wmg6UYu4eEZ+Ly5csm96uvL5BKpQgICDA4ly7m9vXm4NAZRYYOHQrGGK5cuWL0rbtLly4AtA2kf+EfffSRzWSbPn062rdvj7feegulpaXw9vbGfffdh8zMTMTHxxuVV/jxU1NTcezYMZw4cUJ0zM2bN5t9/qFDh+LcuXNo0aKF0XMZCzBWKBRITU3F0qVLAfBYFX2aN2+ORx99FC+++CJu3bplMti6V69eUCqV+OKLL0TLL1++jN27d6N///5mX0tdhIeHG/3NrYUgp/51fPPNNygrKxNdR9u2bZGTkyPabvfu3bhz506Dzt2mTRu89NJLGDhwII4cOWL2fsY6D4B3ICUlJRpFAfDf3NhMhXB/6F+P4CUoEBsbi7CwMHz55ZciJ5u8vDzs37+/XlmHDh2KY8eOITo62uh9Ksh63333obS01OD8mzZtqvccAoMGDUKrVq2wfv16rF+/Hl5eXian9IGGt399HD16FJMnT8bo0aPxxx9/ID4+HiNGjBCNViQSCWQymWhKsqKiAhs3brSaHHVh7j2UkpICf39/fPjhhybd/GNjY9GqVSts2rRJtE1ZWRm++eYbjUdkXZjb15uDVUZqu3fvNtr5CdNuDaV3794YP348nnnmGRw+fBj33nsvfHx8kJ+fj3379qFLly544YUXcNdddyE6OhqvvfYaGGMIDAzEDz/8IHKftTZyuRyLFy/G448/jnfffRezZ8/Gu+++i3vuuQd9+vTBCy+8gLZt26K0tBRnz57FDz/8oLHfpKWl4dNPP8X999+PBQsWICQkBJs2bcLff/8NAPV6lAnH+Oabb3Dvvffi5ZdfRnx8PNRqNS5evIgdO3Zg2rRp6NmzJ+bMmYPLly+jf//+aN26NYqLi/Huu+9CLpcjNTUVAPDggw9q4m+Cg4ORl5eHVatWITIy0mRgefPmzfHGG29g1qxZGD16NJ588kkUFhZi/vz58PLy0nh6OjoDBw7E4MGDMWPGDJSUlKB3794a78fExESMGjVKs+2oUaPwxhtvYM6cOUhNTcWJEyewevVqgylNU9y+fRv33XcfRo4cibvuugt+fn5IT0/HL7/8guHDh5st8/jx41FcXIxHHnkEnTt3hoeHB/7++2+sXLkSUqkUM2bM0GzbpUsXfPvtt1izZg2SkpIglUqRnJyM0NBQDBgwAEuWLEFAQAAiIyOxa9cufPvtt6JzSaVSvPnmm3juuefw73//G88//zyKi4sxb948s6YGFyxYgJ07dyIlJQWTJ09GbGwsKisrceHCBfz000/48MMP0bp1a4wePRorV67E6NGjsWjRIsTExOCnn37C9u3bzW4XDw8PjB49GitWrECzZs0wfPhw0W9jjfY/duyYUa/a6OhoBAcHo6ysDI8//jiioqLwwQcfwNPTE1999RW6deuGZ555RjMSe+CBB7BixQqMHDkS48ePR2FhId555x2rz0SYwtx7yNfXF8uXL8dzzz2HAQMG4Pnnn0dISAjOnj2L7OxsrF69GlKpFMuWLcNTTz2FoUOHYsKECaiqqsLbb7+N4uJivPXWW/XKY25fbxZmu5QYoT5Ps9zc3Dq9H2/cuGH0eIKHncCnn37KevbsyXx8fJhSqWTR0dFs9OjR7PDhw5ptTpw4wQYOHMj8/PxYQEAAe+yxx9jFixcNvLFMndsUgpfY119/bXR9z549WUBAgMa7MDc3l40bN461atWKyeVyFhwczFJSUtjChQtF+x07dowNGDCAeXl5scDAQPbss8+yzz77jAFg2dnZmu1SU1NZp06djJ77zp07bPbs2Sw2NpZ5enoyf39/1qVLF/byyy+zgoICxhhj27ZtY/fffz9r1aoV8/T0ZC1btmRDhgxhf/zxh+Y4y5cvZykpKSwoKIh5enqyNm3asGeffZZduHBBs42p32bdunUsPj5ec/5hw4YZeHWOGTOG+fj4GMgv/BbWpD6PXGPegBUVFWzGjBksMjKSyeVyFhYWxl544QWRZytjjFVVVbHp06eziIgIplQqWWpqKsvKyjLp/agvQ2VlJZs4cSKLj49nzZo1Y0qlksXGxrK5c+eKPNjqY/v27WzcuHGsY8eOzN/fn8lkMhYWFsaGDx/ODhw4INr21q1b7NFHH2XNmzdnEolE1N75+fns0UcfZYGBgczf3589/fTT7PDhw0a9DdetW8diYmKYp6cn69ChA/v000/ZmDFj6vV+ZIyxGzdusMmTJ7OoqCgml8tZYGAgS0pKYq+//jq7c+eOZrvLly+zRx55hPn6+jI/Pz/2yCOPsP3795vl/Shw+vRpTf+zc+dO0brGtH99fd3HH3/MGGPs6aefZt7e3gbPwNdff80AsJUrV2qWffrppyw2NpYpFArWrl07tmTJEvbJJ58YPGeRkZHsgQceMJAJAHvxxRdFy4T+9u23367zeiy5hxhj7KeffmKpqanMx8eHeXt7s44dO7KlS5eKtvnuu+9Yz549mZeXF/Px8WH9+/dnf/75p2ib+vpfc/r6+pAw1oTpBwgR48ePx5dffonCwkKNwZcgCIIwH4d2FHFlFixYgPDwcLRr1w537tzBtm3bsG7dOsyePZsUGkEQRAMhpdZEyOVyvP3227h8+TJUKhViYmKwYsUKTJkypalFI5oIxli9cXgeHh5WyR9JEK4KTT8ShIMgpKOqiz179qBv3772EYggnBBSagThIBQWFmpyipoiNjZWlFWdIAgxpNQIgiAIl8Ghg68JgiAIwhLIUQQ8d+TVq1fh5+dHRniCIFwCxhhKS0sRHh5uVkIHV4GUGnhqmIiIiKYWgyAIwupcunSpzoTErgYpNUBjeL906RKaNWvWxNIQBEE0npKSEkRERLidYxEpNWgTIjdr1oyUGkEQLoW7mVTcZ6KVIAiCcHlIqREEQRAuA00/EoQLo1YDmZnAzZtAUBCQmAi4kSMc4YaQUiMIF2X3buCtt4BTp4DqasDTE4iNBV57DejXr6mlIwjbQO9sBOGC7N4NTJgA5OQAvr5AWBj/m5PDl/9Tr5YgXA5SagThYqjVfIRWWgq0agUolXzKUank30tL+Xq1uqklJQjrQ0qNIFyMzEw+5diiBaDvzS2RAIGBfH1mZtPIRxC2hGxqhNvh6s4TN29yG5pCYXy9lxdQVMS3IwhXo0kf5d9//x0PPvggwsPDIZFI8N1334nWM8Ywb948hIeHQ6lUom/fvjh+/Lhom6qqKvznP/9BUFAQfHx88NBDD+Hy5ct2vArCmdi9G/jXv4Dhw4GxY/nff/3LtWxMQUHcKaSqyvj6ykq+PijIvnIRhD1oUqVWVlaGhIQErF692uj6ZcuWYcWKFVi9ejXS09MRGhqKgQMHorS0VLNNWloatm7dis2bN2Pfvn24c+cOhg4dWm8FYcL9cBfnicRE7uVYWAjoF5ZiDLh1i69PTGwa+QjCljhMPTWJRIKtW7fi4YcfBsBHaeHh4UhLS8OMGTMA8FFZSEgIli5digkTJuD27dsIDg7Gxo0bMWLECADa5MQ//fQTBg8ebNa5S0pK4O/vj9u3b1OaLBdFreYjspwc7iyha2tiDLhyBYiPB375xTWmIgUFXlrKbWheXnyEdusW0KwZ8OGH5Nbv6rhrv+awj29ubi4KCgowaNAgzTKFQoHU1FTs378fAJCRkYGamhrRNuHh4ejcubNmG2NUVVWhpKRE9CGaHrUayMgAtm/nf63pnedozhO2vFaAK6yPPuKKuqwMyM/nf+PjSaERro3DOooUFBQAAEJCQkTLQ0JCkJeXp9nG09MTAQEBBtsI+xtjyZIlmD9/vpUlJhqDrQOFHcl5wl5B0f36AX37urZTDEHo4/C3t36GacZYvVmn69tm5syZuH37tuZz6dIlq8hKNAx72LocxXnC3nY9qRRISgIGD+Z/SaERro7D3uKhoaEAYDDiun79umb0FhoaiurqahQVFZncxhgKhUJTZobKzTQt9goUdgTnCQqKJgjb47BKLSoqCqGhodi5c6dmWXV1Nfbu3YuUlBQAQFJSEuRyuWib/Px8HDt2TLMN4djYy9YllfLpPT8/7hRSXs6VR3k5/96sGV9vy5GMo9n1CMIVaVKb2p07d3D27FnN99zcXGRlZSEwMBBt2rRBWloaFi9ejJiYGMTExGDx4sXw9vbGyJEjAQD+/v549tlnMW3aNLRo0QKBgYF45ZVX0KVLFwwYMKCpLouwgMbauiwJpBacJwR7VlERn3KMj7dPkl9HsusBgEoFbN4M5OUBkZHAE08AMoe1shOEeTTpLXz48GHcd999mu9Tp04FAIwZMwYbNmzA9OnTUVFRgUmTJqGoqAg9e/bEjh07ROXJV65cCZlMhscffxwVFRXo378/NmzYAA8PD7tfD2E5urYupdJwfV22roY4XDSl80RjrtXaLF8OLF4M3L7Np18lEmDKFGDWLGDaNNufnyBshcPEqTUl7hrP4Qg0NH5MNw6rRQs++qmq4jYzPz8+InM0t3VHiZVbvhyYOZOP1ORyfi61Gqip4SO1JUtIsbkC7tqvOaxNjXAPGmLrclaHC0ew66lUfISmUvHpTpmMn08m49911xOEM0JKjWhyzAkU1g1W3rQJ+Ptvx3G4sCSQujFB0dYI2N68mU85yuXG204u5+s3b7b82AThCJBZmHAI6rJ16dvOamt5x6tQGLdNOXogdUPsetYK2M7L41Odps4llfJR2j/5DQjC6SClRjgMQqCwLsZsZ8XF3HaWlwdERfHpPF3sHUitb9cTAqnrsusZu1ZbnEefyEg+IlOrjSs2tZqvj4w073gE4WjQ9CPhsJiynQUEAD4+fERx9ap4H1cLpLb2eZ54AvD3504hxoLQa2r4+ieeaJzcBNFUkFIjHBZTwcoSCRAayp0bysu5EnPVQGprn0cm4277Mhkf0apUvO1UKv5ddz1BOCOk1AiHpa5g5WbN+BSZTAbcuWN/hwtzAqmrqxtv17PFeaZN4277AQHcPinYKQMCyJ2fcH7ofYxwWOoLVpbLgZAQ7oIeHGxfhwt7BVLb6jzTpvFga8ooQrgaFHwN9w1SdHSsHaxszYBtewVSO0rANuF8uGu/Ro8B4bBYM1jZ2g4X9gqkdoSAbYJwJuhRIBwaa1Vw1nW4APgxbt/mf4GGOXYIsnXpwuPiLlzgf7t0sW51aapiTRDmQzPohMNjjSTEgsNFdTVw6RK3RQmJfL28uG3OGo4dtoKqWBOEeZBSI5wCS4KVjREUxKfthIwaMhlXaIwBFRV8eUCAZQ4Xpmx0R49aHhRtDo1tA4JwB+g9j3ALEhJ4LJZuZnqJhP+Vy7XrEhLMO56zJlUmCFeHlBrhFmRn89GZTMazZqjVfJSmW3JFJuPbmQNVsSYIx4SmHwm34OZNPpKKjASuXePThEL+Q6WS29Tu3AGuX+cB2fXZrWxZxdpUNW9Lqnw3FnueiyCsCSk1wi0Qgpg9PYEOHbhLvErFR2fe3lpX+fnzuXdhfYHZtgqKNhUcPngwz4DS2KDxxshgi3MRhLWxKPi6rKwMmzZtwv79+1FQUACJRIKQkBD07t0bTz75JHx8fGwpq81w1yBFd6K+IObcXK6I/Py4IqovMNsWQdGmHE/y8/ko0tcXCAuzbZVvZ6woThjHXfs1sycUTpw4gQ4dOmD69OkoKipCmzZt0Lp1axQVFeHVV19FbGwsTpw4YUtZCaLB1BfEXFnJpwxbtzbP6cPaQdGmHE+EatQqFbf92dIhhZxfCFfA7JHafffdh9DQUHz22Wfw9PQUrauursbYsWORn5+PPXv22ERQW+KubzTuiLGptbAwPlILCjI+lVhezoOdv/3WeL03a0zVZWQAw4fz0ZiuDGVlwLlz2pFgdDSfLjVHNksxJYMtzkXYHnft18y2qf311184fPiwgUIDAE9PT8yaNQs9evSwqnAEYW2MBTFfvw6MG9cwpw9rBUWbcjxRqfh0pocHH6nduaP11vT21spmroNLQ2QQsGdFcYJoKGYrtYCAAJw5cwYdO3Y0uv7s2bMICAiwmmAEYSv0g5gzMhrn9GGNoGhTjidCkLhQ9yw/ny8XMqEEBFjm4NIQGQTsVVGcIBqD2e9yzz//PMaMGYN33nkH2dnZKCgowLVr15CdnY133nkH48aNw4QJE2wpK0HYhMRErgQKC41Xg7ZHJW1TMnh7c8UmjNhkMh4s7uHBM6FcvgwUF/O8k4Ijia8vd2CZMIFPjzZWBsB+7UAQjcUi78elS5fi3Xff1Xg+AgBjDKGhoUhLS8P06dNtJqgtcde5Z0KLrtdfYCAfBVVW8o68WTP7JA42JkNFBXD2LFdqUikfKQnpvWpqeHFPmYwnUdadbrSGB2ZTtQNhHdy1X2tQPbXc3FwUFBQAAEJDQxEVFWV1wexJQ358Ck51PRwhPktfBoCPxPz9uaOGbtC4XM4VjkQCtG8P6EfUNNSxo6HtQM+EY0FKzY2x9Md3hM6PsA2O0DHrynDmDLBoEZ9WlErFQeM1NdxrUyIB2rblik//OPn5wIYNPHi7oTLYs6I4YT3cValZlFHk8uXLWLNmjUHwdUpKCiZOnIiIiAhbyekwmApOFWwYFJzq3DhCJnxdGfSdN/Td+QVXf5mRJ7kxjh2WtAM9E4QjYfY76L59+xAXF4etW7ciISEBo0ePxtNPP42EhAR899136NSpE/78809bytrkUHAqYW/qct4Q7j/hHtTFXo4d9EwQjobZ04/du3fHPffcg5UrVxpd//LLL2Pfvn1IT0+3qoD2wNxhOgWnEk1BXc4bMhlXYLW1TePYQc+E4+Ku049mj9SOHTuGiRMnmlw/YcIEHDt2zCpCOSrmBKc6cvVkwjao1bxz376d/7X2qKRfPz6FFx/PFUR+Pv8bHw98/jmwcaPxdfbwVKRngnA0zLaphYWFYf/+/YiNjTW6/sCBAwgLC7OaYI4IBacS+tjLQaK+zCXWyGrSEOiZIBwNs5XaK6+8gokTJyIjIwMDBw5ESEgIJBIJCgoKsHPnTqxbtw6rVq2yoahNj2DfMJWZ/dYt/oZMwanugb0dJOpy3mgqBxd6JghHwyKX/i1btmDlypXIyMhAbW0tAMDDwwNJSUmYOnUqHn/8cZsJakssmXum4FQCsE3pGWeFngnHxF1tag2KU6upqcHNfybJg4KCIJfLrS6YPaE4NcJSyEFCDD0Tjoe7KrUGVb6Wy+Uubz+rC2tlZiecF8poL4aeCcJRsNotd+7cOfSzwStZaWkp0tLSEBkZCaVSiZSUFFHYAGMM8+bNQ3h4OJRKJfr27Yvjx49bXQ59BBvG4MH8Lz287oWug4Qx3NFBgp4JwhGw2m13584d7N2711qH0/Dcc89h586d2LhxI44ePYpBgwZhwIABuHLlCgBg2bJlWLFiBVavXo309HSEhoZi4MCBKC0ttbosBCFAGe0JwjEx26b23nvv1bn+ypUreOeddzQOJNagoqICfn5++N///ocHHnhAs7xr164YOnQo3nzzTYSHhyMtLQ0zZswAAFRVVSEkJARLly41WQqnqqoKVTqv2CUlJYiIiHC7uWeicZCDBOHIkE2tHtLS0hAWFma08jUAVAspxa2ISqVCbW0tvLy8RMuVSiX27dunqRYwaNAgzTqFQoHU1FTs37/fpFJbsmQJ5s+fb3V5icbhaMmE65NBCIpesgQ4doxPRSoUvAzMzJmk0AiiKTBbqUVGRmLp0qUm3fazsrKQZGU3Lz8/P/Tq1Qtvvvkm4uLiEBISgi+//BJ//fUXYmJiNOVvQkJCRPuFhIQgLy/P5HFnzpyJqVOnar4LIzWi6XAE7zlHkIEgiMZh9ntwUlISMjIyTK6XSCSwRRWbjRs3gjGGVq1aQaFQ4L333sPIkSPh4eEhOrcujDGDZbooFAo0a9ZM9CGaDmEaLyen8dWb7SmDsM/Ro3z6sW1b/vfoUfvJTRCEGLOV2oIFC/DYY4+ZXN+xY0fk5uZaRShdoqOjsXfvXty5cweXLl3CoUOHUFNTg6ioKISGhgKAZsQmcP36dYPRG+GYOEKW94bI4AhyEwRhiNlKrWPHjkhOTja5Xi6XIzIy0ipCGcPHxwdhYWEoKirC9u3bMWzYMI1i27lzp2a76upq7N27FykpKTaThdDS2GS+mZl8uq9FC3FWDoB/Dwzk6zMzbSdzRoblMjSF3I6ArZM3E0RjaVDwtT3Zvn07GGOIjY3F2bNn8eqrryI2NhbPPPMMJBIJ0tLSsHjxYsTExCAmJgaLFy+Gt7c3Ro4c2dSiuzzWsEHZO4jZmMxBQdr8jebK4I7B12RzJJwBh1dqt2/fxsyZM3H58mUEBgbikUcewaJFizSpuaZPn46KigpMmjQJRUVF6NmzJ3bs2AE/P78mlty1sVYyX3tmeTclc14eX3brlvHzGJPB3bLTU3VrwlloUO5HV8Nd4zkaijWT+dorMXB95xFKAXbqJD6PKRncKaGxO12rK+Gu/RrdgoTFWNOeJJXy6Ss/P945lpfzTrS8nH9v1oyvb2xnWZ/MYWH8vHl55slgL7kdAXe1HxLOiVmPXGBgoCYr/7hx4ygFlYNja2O+vj2pvBwoKeF/AcurHddV2dlaWTnqs4EFBnJFFBlpvgz2kNsRoOrWhDNhlk2turoaJSUlCAoKwmeffYalS5eSzcpBsYcxX7An3brFP1VVXHFKpbzjCwy03J5k6yzv5tjAfH25kpJKzZfBHbLTu5v9kHBuzFJqvXr1wsMPP4ykpCQwxjB58mQojd3dAD799FOrCkiYj72M+YmJQHAwkJXFv8vlgIcHt6+Ul/NP166WJ/O1ZfVmcys0NyS7fFNVnbYXVN2acCbMeny/+OILDBkyBHfu3IFEIsHt27dRVFRk9EM0DU0VDGzMxuKIuJMNzNpQ2xHOhMXej1FRUTh8+DBamArqcUJcwUvInpWYhXNJJPwtvbKSv7FLJNy+EhDAt3PEqs8Ua9VwqO2cC1fo1xqCxXFqtkiFRTQeXWO+MA2oUgEyGeDtbd1gYOFcYWF8mlP/XIxxpwl7OA7UlVXf2Dp3sIHpYs3KB+7WdoRz0qDg67179+Kdd97ByZMnIZFIEBcXh1dffRV9+vSxtnyEmeg7bxgbPVnLmK/vOODjI15fUWEfx4G6Rg5A3aMKRxtB2gJbjKxc3X5IOD8Wv2N98cUXGDBgALy9vTF58mS89NJLUCqV6N+/PzZt2mQLGQkzEJw3Ll/mSsXDQ+vAUVHBbR/BwdYx5jtC1ee6suqPHg2MGtW0Wf+bGkeofEAQTYHFNrW4uDiMHz8eL7/8smj5ihUr8PHHH+PkyZNWFdAeuMLcs1oN9Ogh9kiUSLiSqanhy7p2BQ4dss50UVNWfbZ2dhBXgzKAEIBr9GsNweJb+vz583jwwQcNlj/00ENkb2tCMjOBGzeA1q25XUut5spMrebfW7fm662V9aEpA4/rynBRUcGvWa3m/+viLNkvnLHyAUE4Chbb1CIiIrBr1y60b99etHzXrl1UPboJ0XXeCAoydN5Qq63vvNFUjgN1ZbhQqbS2RJXKcL2jZ893xsoHBOFIWKzUpk2bhsmTJyMrKwspKSmQSCTYt28fNmzYgHfffdcWMhJmoO+84e0tXm+rrA9N4ThQV4YLmUw7OpEZubsdOfuFM1Y+IAhHw+J36hdeeAGbN2/G0aNHkZaWhilTpuDYsWPYsmULJkyYYAsZCTNwBOcNe1HXtQpB50LguS6O3A7WDJ53p3uBIPSh0jNwHYNqUzpv2Ju6rlUm4513ba3ztIO1g+fd6V4gjOMq/ZqlkO+TC+EuWeOBuq/188+BjRsdox3Mdfowt/LBgQPmOZC4071AELrQSA2u90ZjzSwSjo6lGUXs2Q6WOH3opx7Tr3ygVHIl17w5395cB5KmbgOi6XC1fs1cSKnBfX98wnaYcvooLOSJgfWdPuqKM6yu5utlMiAmho/a6joWQQDu26/ROxtBWJnGOn3ox5YJ2wnhGfaovkAQzorFSm3BggUoFyb6daioqMCCBQusIhRBODP6wc+69jFTwc+6wfNKJXdyqanhsXYSCVdoQrkXAQqkJghDLFZq8+fPx507dwyWl5eXY/78+VYRiiCcGcHpo7oaOH0aOHcOyM3lf0+f5sqquloc/CzsExjIpxijo4G2bYHQUD4yE5SafkC54EBCgdQEwbE4+JoxBomRSpDZ2dkIDAy0ilAE4cwEBXEFlJfHbWIymbYyeEUFXx4QIA5+NlX5QCbjSk1wGtEPKKdAaoIQY7ZSCwgIgEQigUQiQYcOHUSKrba2Fnfu3MHEiRNtIiRBOBMJCXxEpVLxkZTwqEgk3AGkspKvS0jQ7iMETOsnIRZq4d25wxWdbqYYIZA6Pp4CqQlCwGyltmrVKjDGMG7cOMyfPx/+/v6adZ6enmjbti169eplEyEJwpnIzuYjKpmMTzUKqbsY0+bjlMn4dkIgtVTK3fMnTOBZ9HUDpoXt5XJuU9MPpH7tNXLTJwgBs5XamDFjAABRUVFISUmBXC63mVCE/XGEeKaGyGCvfSzh5k1+vMhI4No1ccFWpRIICeEjL307mBAwLcS2FRXxqcXkZGDwYB50rbs8Pr5xBT8JwhWx2KYWFRWF/Px8k+vbtGnTKIEI+2OLCsn2kMFe+1iKYB/z9OROH/oVE+qqDF5X5YOXX276Fw+CcHQsDr6WSqVGHUUEamtrGy2UvXHXIEXA8iBhR5HBXvs0BCrSSTgC7tqvWazUsrOzRd9ramqQmZmJFStWYNGiRRg+fLhVBbQH7vrjO0Ln2xAZ7LVPY6CEwkRT4679msXTjwm6Llv/kJycjPDwcLz99ttOqdTcFUsqJNuqZlpDZLDXPo3BlH2M7GAEYVssVmqm6NChA9LT0611OMIOOEKF5IbIYK99GktTVQYnCHfGYqVWUlIi+s4YQ35+PubNm4eYmBirCUbYHkeokNwQGey1jzVoisrgBOHOWPzO2Lx5cwQEBGg+gYGB6NixIw4cOIA1a9bYQkbCRjhCheSGyGCvfQiCcD4sHqnt2bNH9F0qlSI4OBjt27eHTD+HD+HQ1BXwa6/A3obIYK99CIJwPqieGtzXS0igvtgtewRm2zNObckS4NgxPhWpUACdOwMzZ9bvvGGqHRy5UCnhvrhrv9agodW5c+ewatUqnDx5EhKJBHFxcZgyZQqio6OtKpxKpcK8efPwf//3fygoKEBYWBjGjh2L2bNnQ/pPz8AYw/z587F27VoUFRWhZ8+eeP/999GpUyeryuLK1OXQYK/A7IY4VdjTEcNUO+hm+tBvH6Dpg9oJwt2weKS2fft2PPTQQ+jatSt69+4Nxhj279+P7Oxs/PDDDxg4cKDVhFu0aBFWrlyJzz77DJ06dcLhw4fxzDPPYOHChZgyZQoAYOnSpVi0aBE2bNiADh06YOHChfj9999x6tQp+Pn5mXUed32jqQ9HCMy2Jg29HlP75efzdFe+vkBYmPh4Mhm31dXWukbbEc6Hu/ZrFiu1xMREDB48GG+99ZZo+WuvvYYdO3bgyJEjVhNu6NChCAkJwSeffKJZ9sgjj8Db2xsbN24EYwzh4eFIS0vDjBkzAABVVVUICQnB0qVLMWHCBLPO464/fl04QmC2NWno9ZjajzHgzBlt9vzYWPHxjh3j/3fqJD6eM7Yd4Zy4a79m8SN18uRJPPvsswbLx40bhxMnTlhFKIF77rkHu3btwunTpwHwbCb79u3DkCFDAAC5ubkoKCjAoEGDNPsoFAqkpqZi//79Jo9bVVWFkpIS0YcQY0mwsjPQ0OsxtV95OXcykcv51KJuReqKCq4M1Wr+v7nnIgii8VhsUwsODkZWVpZBTFpWVhZatmxpNcEAYMaMGbh9+zbuuusueHh4oLa2FosWLcKTTz4JACgoKAAAhISEiPYLCQlBXl6eyeMuWbKEqnTXgyMEZpuDuY4YDb0eU/upVHzU5eGhrZ2mv04iMaxUXde5CPOwl/MNOfk4JxYrteeffx7jx4/H+fPnkZKSAolEgn379mHp0qWYNm2aVYXbsmULvvjiC2zatAmdOnVCVlYW0tLSEB4erimFA8AgwbKp6twCM2fOxNSpUzXfS0pKEBERYVXZnR1HCMyuD0ucWBp6Pab2E2qkGatILawT/jf3XET92MtxyREqVxANw2KbGmMMq1atwvLly3H16lUAQHh4OF599VVMnjy5TmViKREREXjttdfw4osvapYtXLgQX3zxBf7++2+cP38e0dHROHLkCBJ1omaHDRuG5s2b47PPPjPrPO4691wXjm5Ts9Tpg2xqzo+9HJdcxUHKXfs1ix8piUSCl19+GZcvX8bt27dx+/ZtXL58GVOmTLGqQgOA8vJyjeu+gIeHB9RqNQBe2y00NBQ7d+7UrK+ursbevXuRkpJiVVncDSFY2c+Pd8Ll5byDLy/n35syWFmt5m/RpaVc0SiVXA6lkn8vLeXr/7lNGnU9pvarqDCsSK17vOBgPhK7etWx2s5Zachv7sjnIWxHox4rPz8/s93mG8KDDz6IRYsW4ccff8SFCxewdetWrFixAv/+978BcAWblpaGxYsXY+vWrTh27BjGjh0Lb29vjBw50mZyuQtCpvn4eKCsjLuwl5Xx701ZOqWhTh/mXI9aDWRk8NizjAz+3dR+yck8kDs52fB4n38ObNzoeG3naBhrb2PYy3FJ9zwA/81u3+Z/Ads4+ZjbBoR5OHReq//+97944403MGnSJFy/fh3h4eGYMGEC5syZo9lm+vTpqKiowKRJkzTB1zt27LCpsnUnHDHTfGOcWBoTaN6QitSO1naOhCV2K3s5Lgnnqa4GLl3i9k/B6cfLCwgJ4eus5eRDtjvrQ2my4L5zz85KRgYwfDgPejbm9FFezt+sv/3W/Az5rmJHcRYsbW9b/ObGyMgAhgzhCpIxrdMPY9yTVSIBAgKAn35qfPUFW99z7tqv0Tsj4XRYO+M+2VHsS0Pa215VFhIStCEacjmXSyLhf+Vy7TojtZItgu4529EopVZZWWktOQjCbKztxOJqgeaOTkPa216OS9nZWgegmhp+Dsb435oa7brs7Madh+4522HxLaBWq/Hmm2+iVatW8PX1xfnz5wEAb7zxhiidFUHYEms6sZhjr7GmHcUZMOW8YA2nBnPau6oKOHDAuMNOly58evDCBf63SxfrOd/cvMkVY2QkHzWpVFxWlYp/j4zk661lu6N7zvpY7CiycOFCfPbZZ1i2bBmef/55zfIuXbpg5cqVRlNoEYQtsJYTizMEmtuThlQksESh1NfehYVAcTGwaBH/rl/5wJYIstXUGF9fU2Ode4HuOdthsaNI+/bt8dFHH6F///7w8/NDdnY22rVrh7///hu9evVCUVGRrWS1Ge5qUCU4jh5obk8aUpHAUqeGutq7pAQ4f56nH2vf3v6VD9RqoEcPICuLf5fLtY4igqLr2hU4dKhx94I97jl37dcsbq4rV66gffv2BsvVajVqTL3eEIQD48iB5vbElPOCl5fWQaKmpvFODabau6wMEFK2CtN/uue5cYOPyMPD7eNYYczWZS3onrMdFk8/durUCX/88QciIyNFy7/++mtRqiqCcCYEe40w7VZUxKd/4uOdI2bIGlW51Wqt84JaDVy+zKfBZDKeQUUu147aAD5SCgjQOjVkZGjtTbrnqq4Gli4Fzp0DoqOBGTOMtzfAtw8L4526LkLlA+F/IVm0TAZ4e4sdK4y52qtUwObNXGlGRgJPPGE8L2dmJleerVtzj0rdODWlkl/vjRumz2MJzn7POSoWK7W5c+di1KhRuHLlCtRqNb799lucOnUKn3/+ObZt22YLGQnCLjhioLk5WKsqd1AQH/EUF/NpQFP8k/IVAHDxIg9Irqzk05aFheJzKRR8Ck23WsGCBcCzz3LnDt32PnOG29ECAw3PKVQ+ALhiqq3VJpNWKOoOil6+HFi8mGcGERTUlCnArFmAfg52wYEjLIwr9/JysfJkjCt1azlwOOs958hYrNQefPBBbNmyBYsXL4ZEIsGcOXPQrVs3q1e9JoimQCpt/Bu4PTFlAzt8GPjtN0MbWE4OMGqUdqSju09ennbEVB/CVFxtLVdyQiccGqo93h9/cGWnj0rFRygAV2xCe9flPCGMqmprudKRy7ndjTE+csvL46MofceK5cuBmTPFcWdqNb/OmTP5NrqKTV8GHx/x8SoqrO/A4Wz3nKNjkaOISqXCokWLMG7cOJcq1eKuBlXCuanL2eDUKW6j8vUFYmK069Rq4Phx/n/nzuJ9amu1DhL1oTuFKZCQIFY+usfSr3wA8G3LyriSqO961Gp+PMa4jU+/8kFlJVdq165pZVCp+AiuqIjvo++MYWwfV3Iactd+zaKfRSaT4e2330Ztba2t5CEIwkzqqsotjGYqK82vyn35svnnZswws8ft29r/r10z3F5AUAYqFbe16S435Txx8SJfLxRlNScoevNmLpPgwaiLRMKX377NtzNHBnLgcA4snn4cMGAAfvvtN4wdO9YG4hCE7bFnReOGnMuUU0N5OTB6NHd5b9eOTyMKAbyM8RFJVZXW3iST8WPduaO1Cwm2Lcb4vvn5fB+FwniVblMYm98pL+f2uMpKw2MZU4IAcPo08OabYieSjz7itrUDB7jCksuBDh34NbVoARQU8HMINjUvLz7tWVrK9xHa+sIFfk6pVHt+waYmpL6qqQH279eWCkpM1DpwLFnC6+IJ7dOlC5+yJAcOx8biOLWPPvoI8+bNw1NPPYWkpCT46E06P/TQQ1YV0B646zDdHbFnVvSGnMuYU4O/P59GvHjRcHtPTz6FdvMmV2a6CJ25hwf/LoxOBMXnCAg2LgGZjDuKXL9uuK1czt35b93io0xdr0SlkrdZQADf1tOTj6pOnNCeQ1+pAVpFKZcbOtLoK7XOnZ1Lqblrv2axUtMv2ik6mETilFOT7vrjuxv2zMTfkHOZcmqorjbvnPr2HwGFQqvgamocR6E1FGGqUTcouraWL+vQQdvWN29y93uhLUy1T1ycNjWXvYK87YG79msNyv1o6uOMCo1wD+yZFb0h51Kp+AhNpeIdrEymtSFZiv5rqqnO3FGQSi2b/tWf2hS6HU9PrROJ0Nb1HVehaPogb8K6OHSRUIJoDLr2rBs3gL//1lY0vnVLO62kG0Ccns7jpYwF6Zqyj1VW8kKhZ8/y1E5PP6114BDimoRzhYbycx07xgN8S0v5sV55RevUIDg/WNpxmlJYjl5Mw1JFK9jCdPeTybQ2QolEq+AE2xlg2J4eHnxZQQH/rlDwj26Qt651RT97PrnhOyYNKhK6d+9evPPOOzh58iQkEgni4uLw6quvok+fPraQ0ea46zDdldG3Z9XWcqXh58edGXQnFTw8uOt3aSn/Xl4utmfNmsUVmDH7WGkpcPCg4fk9Pfm5CgvtcrlujzAVqYugzCQSICqK/+aCPVH4XfRHfbp2yLZt+e+vi1rNFeeGDTy43ZFx137N4pHaF198gWeeeQbDhw/H5MmTwRjD/v370b9/f2zYsAEjR460hZwEYTbG7FnFxXyEJXRm+vFZQpYMwZlCN0h3xgygeXM+GtC1sfz2m+ls7tXVpNDsibFXc2HEJRT4FBRUebmhY42u44jw11garSbJnl9UBBw9CvTsabpWDaHB4pFaXFwcxo8fj5dfflm0fMWKFfj4449x8uRJqwpoD9z1jcYVMRU8K0wdCuh7wAkYC+wVcg0mJGhtXJYEKhPWR/iNjIUKGJtu1A2lYAw4ckS7ztS9oBtMLuxn8+Dr4mJeAiA9nQuZnc1jOBjjy5KTzT6Uu/ZrFo/Uzp8/jwcffNBg+UMPPYRZs2ZZRSiCaCimApKLi8XbmXqVE2Kf9LdjjB9DsMlZEqhMWB/d38XUOl3On+eOH15exsMFjO2Tm8tfjLy8+Ajt1i0rB1/fucMV2KFDPBt0djYP2DNlTD182CKl5q5YrNQiIiKwa9cug/Izu3btcqnUWUTjsHaAs7lZ6K9fN15RuKrK8JimOkTdzOy6b+oVFXyasqqK90dE02DMfqaL8NtJpfz3q6nh94YQnC5MGQu5I3V1iG7WEt19Gh18XV7OldKhQ/xvdjaPPDfXG8jPr+4s04QGi5XatGnTMHnyZGRlZSElJQUSiQT79u3Dhg0b8O6779pCRsLJsHaAsyVZ6MPCeD+hnxTXXFOEro1MyLohoJ/6iXA8ZDKulASlplLx/728eJ5JQDuFbGzqUjdAW6kUpxgzm8pKPnX4119cgWVl8ZvU3JAnHx8e6Z2YyEdmPXsCHTtSbi4zaZD349atW7F8+XKN/Uzwfhw2bJjVBbQH7jr3bAusHeDckErMJSW8E4uK0k5B6ttRCOfGVOydUin+zSsr+fegIP5RKPgyXdO/sWNJJNrUWXXew1VVXGn99Re3eQnz3+bmHPP21iqw7t152e1OnayiwNy1X2uQUnM13PXHtzbWznBu6niM8ViyO3f4S21srPg8ubm84/Lz44pQeEs/fdq610tYB2sGh3t6aqelhVG3jw/PNKJ7nqNH687UIpUCXbuK9/GorYZ/Xg4eankQL/Y8DEnmER78aMoFVh8vLz6HKYzA7r6bj8AaEmFvBu7ar1k8/Zieng61Wo2ePXuKlv/111/w8PBAMhkym5ymStirG+BsLCt6fRWS66rEzJg2ka0Q8CxkoRdmdhQKPjoLDeVv1W3a8DIr5qaZIpqGxioyIeOHUNBTmD708+PrwsP5d2G9sI2Hh/EZQakU8JTUIPLWMXSvPYhO5YcQW56JdpUnIWfVQBGAU/UIJSSLFEZgvXrxfFzG4gQIq2JxC7/44ouYPn26gVK7cuUKli5dir/++stqwhGW05QJe4UAZyH1kD5eXlwxTZyorTBcl32sRQs+GisrqzvmS3DaqKjgStHbm788G/NyI1wPIVmxTMbvMcb4PRgRwTPDVFcDly7xmULBL6O2VvviJUMNOuIEeuAQeuIvJKoz0RnHobhgxLvIGAoFH3F168YVmDACk8ttc8FEnVg8/ejr64ucnBy0a9dOtDw3Nxfx8fEoFdIyOBGuMkxv6oS9xcW8ExGyMeg35Y0b3HuwWTNxhWRT9rGCAu59RhPkhLlERfFA+aoq7tgjhHIInqwyqNBe9TcSVYfQHYeQjAx0xlEoYZ4Cq4Ynzsg7ouX9SQi+/58pxE6dHFKBuUq/ZikWj9QUCgWuXbtmoNTy8/Mho6F1k6GfRFd4CxUSsV65wtf37dv4qUhT5woM5IqrrIwrJD8/cVBrQQE/d9u2YvlqarTTQkK+PqWS50a8datxshLuRfPm2unIthG1qCg8hWQcQi+PdCRVH0Yn9VF4o6Le4wBADeTIVcbhpHcSjvv0wHHvHvj9VmfEJXjil61oQDp4wh5YrIUGDhyImTNn4n//+x/8/8k7U1xcjFmzZmHgwIFWF5AwD1NBx4D1E7HWda7wcO6oUVbGFVJAALd7XbvGFZu+A4mxKs1CEtkbNxonJ+E+SKBGB5xGzzOHkao8hI7lh9G+PBve+Mcnvx5v+hrIcBJxyEAS0pGMQ+iJPL8uCG6tEAdf+1Pla0fHYqW2fPly3HvvvYiMjERiYiIAICsrCyEhIdi4caPVBSTMQ7BRmYrH8vLiU3k3b1p+7LoCnHUrLgsZ7yMj+TTk9et8dKZQ8NHZpUtcuapUPHFCdbU247rgan32LD+fXO6QMzqEAyCBGjE4g2QcRnekIxmH0RVZ8EUZcAf8UwcqeOBv3IXDSEI6eiAd3ZGDeFRLvDTTlDU1QLuWVgy+biD2dPpyFSxWaq1atUJOTg7+7//+D9nZ2VAqlXjmmWfw5JNPQk69UJMRFMSdK/SDjgUamojVmOOJEOB89aphYtiLF7kyqqnRejpXVvJSK15e/K8xD2ihPIoQ3lNVZTwLCOFeSKBGNM4hCRkaBdYNR+BXn+b6h1pIcQp34UyzJOR4dUeOZ3dkqBKQW8AfEiGBtUQCKOoI2G4K7On05UpQnBpcw6Bq7RgxwLTjyc2b/A1WUE6OXoSScBYY2uE8kpCBZKSj+z8KzB/mpYdSQ4LTklgckSQjQ9od6eokHFYnokbmjS5dxImOc3K0HpC6L4G6AdstWvAA7KaofG0Npy9X6NcagsVK7bPPPkNQUBAeeOABAMD06dOxdu1adOzYEV9++SUiIyNtIqgtcZUfX/dBCAw0TMT64YfmP4x1KUn9DPW6QdG6mMp+ThAAQ1tc+EeB8WnEbjiCABSbtbcaEpxGBxxGEg6jOw4jGVnoCpXCV1MTTaXSlpARCsEKz8SlS9zjVr/UUF0B23bJ0g/rvaC6Sr9mKRYrtdjYWKxZswb9+vXDgQMH0L9/f6xatQrbtm2DTCbDt99+aytZbYYr/fjWmrLIyACGD+du9vrTmYWFwIUL/H+hAzF2F5FSIzgMbXARyTismUbshiNoAfNdW0+hAw4jWfPJQlfcgZ/BdkLeR2H6UHBUiorioSO6z0S7dsDXX/PYSiFg28dHG7BtbBq/vJxPSX77re0qX9f17Fkigyv1a5ZgsU3t0qVLmgz93333HR599FGMHz8evXv3Rt++fa0tH2Eh/fpxt31TxuXqamDpUu6oER3NC2B6etbtDCIUyxQM5oL9C9C+4QKmk8MS7gRDa1zWKDBhJBYM8z2UziL6n8lHrsAykYhSaDtlzcuSkRclT0+u2Ly8+ChHKuXKbO5coGVLw2di9Wpg82bu2BQZyZXgc89pnaCELCQyGQ/qb4zDlbnY0unLHbBYqfn6+qKwsBBt2rTBjh07NMVCvby8UFFhXvyHJbRt2xZ5eXkGyydNmoT3338fjDHMnz8fa9euRVFREXr27In3338fnTp1sroszoJUavwNbuJE4JNPxLlWFyzgUx1VVcadQa5c4SMzXWcQ3SkPc/O2Eq4IQziuahSX8GkJ82MxziMKh9DjH/WXhCPohttoXvdZ63hZErqgO3d4p9+8OZ96b9nS+DMhkwFPP639npHB7/9bt/hHtwyRMPKzdeVrWzl9uQsNilN77rnnkJiYiNOnT2tsa8ePH0fbtm2tLR/S09NRq9OjHjt2DAMHDsRjjz0GAFi2bBlWrFiBDRs2oEOHDli4cCEGDhyIU6dOwc/PcHrCXZk4kRuX9VGpgG3b+MMTFaU1SF+4IHYG0YWmEt2TUOQbjMDCUGD2/ufRFhlI/icWrDuOoBuKEWBDiXlGER8fPjIzh8RE7hySlaXNQiLUb6uo4CO3rl3NP15DSEzk06OmbGq3bnGbmi1lcGYsVmrvv/8+Zs+ejUuXLuGbb75Bi39KAWdkZODJJ5+0uoDBwcGi72+99Raio6ORmpoKxhhWrVqF119/HcOHDwfAHVlCQkKwadMmTJgwweryOCPV1XyEJqBb1l54462oEGfzCA8X1w8jD0f3oiWuaRSYMAILR77Z++ehDdLRHRlIwmEk4wi64RZa2FBi0xQU8Jc3T0/L9jM2nW4PpFJuA58wgc+UGHP6ogBw0ziVS391dTXCw8MxdepUzJo1C+fPn0d0dDSOHDmiCQQHgGHDhqF58+b47LPPjB6nqqoKVTpBUCUlJYiIiGhSg6o1gyz1j7VtGzBvHl9Xl3Jq3pzbDQR7guAMQrg2wbguGn0lIQMRuGz2/hcRoVFewjTiTQTXv6MdWbAAeOMNw+XGKkM8+ih/Tm7d0iZBlkr5cxEYyJ8NWzqKCDTW6YscRZyA7777DsXFxRg7diwAoKCAT32EhISItgsJCTFqhxNYsmQJ5s+fbzM5LcWaQZbGjqVfzdkUxcXiBLCE69ECN0XKKxmH0QaXzN7/CsI11jNBkd1ASxtKbB3OnTNcZuxZESpDREZyJafvKKJWc8cTezhp1Of0RRjHqZTaJ598gvvvvx/h4eGi5RK9HpgxZrBMl5kzZ2Lq1Kma78JIrSkwFWSZk8OXWxLoaepYdeh3A0zFnBHORwBuGYzAonDB7P2vIkwz8hKmEq8h1HYCW4Cl92l0tPh7Xc9KSQkfpQUFcUWmi72dNEw5fRGmcRqllpeXh19//VUUBxcayh+wgoIChIWFaZZfv37dYPSmi0KhgMKUv6wdsWZm/bqOFRMjDpY2hW5cGSk156I5itANR0QjsHbINXv/AoSIRmAZSEI+wuvfsYmw9D79x0kbQN3PSmQkLyybn2+YsJucNJwDp1Fq69evR8uWLTXelgAQFRWF0NBQ7Ny5U2NTq66uxt69e7F06dKmEtVsrJlZv65jCWl/6usASJE5B81wG91wROTE0R5G5tdMcB3BotHXYSTjKsIBOM+cs6UeuCtXam1qdT0rUimv9Xf1Kh+1tWxJThrOhlMoNbVajfXr12PMmDGimm0SiQRpaWlYvHgxYmJiEBMTg8WLF8Pb2xsjR45sQonNw5wgy1u3gAMHjM+p6xq5z5wRH0vXFqBS8YBUc2LKhJgcwjHwQwkSkSkagXXAGbP3v4kWotFXOrrjMlrDmRSYNThzhsegCc9KVRVXasZo0YKP4iIjtXlOPT35CI2SCTs+Fiu1wsJCzJkzB3v27MH169eh1ntlumWDqo6//vorLl68iHHjxhmsmz59OioqKjBp0iRN8PWOHTucIkatviDLwkLuuLFoEf+u60ACiI3cAN9WyIKg67Ulk5k3CvP01E5BVlXRyM3e+OCORoEJSuwunDJ7/0IEihRYBpKQh0i4mwIT0J2d2L8f2LtX/Kx4eRm3jVVW8qTBH37Inx9y0nAuLHbpv//++3Hu3Dk8++yzCAkJMXDIGDNmjFUFtAdN5fpaV+LSkhLg/Hk+wmrfXpylW8hvp1JpjdyVlfwNVKXiD56goBjjD7I50zVKpVYG3dIxhPXxRhm6IktPgf0NKcx7HIvQXKO4BEWWiyi4qwIT0FU6uvd8y5ZcMQnP0dmzPEtOu3Z8SlHAXkmL7QG59JvJvn37sG/fPiQkJNhCHrfCVJBlRYXWYzEyUjuKE4Kijx/n3zt3Fhu55XJtZvKGIFSg1s1WTjQeJcqRgGzRFGIcTsLDWPJCIxTDXzT6OoxknEc7uLMCMxVvaeze9/ICWrc2dAg5f54/Z+3a8WVkN3MNLFZqd911l01yPLoDxgKs+/XjbvvCVGJREd9WKuX5F/38eEZuwT7GmPbBLf+nUr1KxT81NVobWnW11j6mm3S4LmprtTkeheMQluGFCiQgW+RG3xEnIENt/TsDKIWvgQI7i/ZgoB5WF11FZqpShJDYODLS0E7crBlXdNeuaeMzyW7mGlis1D744AO89tprmDNnDjp37mxQ7dqdhrmWUF+AtW6Q5Zkz3I4ml/P/dZOqymRaBXXxIldkwsMsVOwFxJnzGzJyI4VWPwpUIh45Ii/ETjhutgK7Ax8DBXYGMaTAGoBQbb1fP66soqP5S+Pzz5t2xAoM5FORr7/Ow17IbuYaWKzUmjdvjtu3b6Of3quMEPCsm3yY4JgbYC247QvpevLyuFLSTaqqax+rqtKWoheanZw7bIMnqtAZx0Q2sC44CjnM0/5l8MYRdBPZwE6jA9TwsLHkronuyEut5s+FVAqMHavNui9k3K8v232vXhTg7EpYrNSeeuopeHp6YtOmTUYdRQgxDQmwTkjQTikKSYYB7UhNUGBCxV6AT7UQ1kGOanTGMdEUYjxy4AnzDI3lUCILXTUK7DCS8TfuIgVmRYzZ1KRS4PHHtcsp2717YrFSO3bsGDIzMxEbG2sLeVyOhgRYZ2dz5SWTae1kwkhNd1qwpkY7UiPHjoYhQw064bgonVQCsqFAtVn7V8AL2UgQ5UI8iTjUOkcIqNNibErd1xc4elT7HFG2e/fE4icvOTkZly5dIqVWB6aCooW3Q8GmJjxkRUW80rRucKhUyg3c165xhxDBpubpqXUCEZIVN9Ru5m54QIWOOCGygSUgG16oqn9nAFXwNBiBnUQcVJDXvzNhMzw8gJAQ/gzoJxo25ohFDiGujcVK7T//+Q+mTJmCV199FV26dDFwFImPj7eacM6IvkMIwD2rqqp47JmuyfHSJW1Wg/nzeb453X0qK7lC091HqJijm6dR+E72NC0eUOEu/C1yo09ANrxhnuduNeTIRoLIBnYcnVADC4tyEVZH8AIWXvSEcBbGjAdTU7Z798Li4GupkTtBIpE4taOItYIUjTmEVFZyBVfXSEom46M2ITi0shI4fVqrzEzF5Hh4aKcfGeP7uSNS1CIWp0Q2sERkwgflZu1fAxmOoosoH+IxdEY1mj7pNWGI/n0vTL137QocOkTKSoCCr80kN9f8zN/uRF0OIboYU1AqFQ+qFpw9lErzRl3uWI1aAjU64LRoBJaITPiizKz9ayDDMXQWudEfRRdUwcvGkhPWwpht2l3uf6J+LFZqkZGRtpDD6dF1CAF4OqvqasMUVboPn+7DWFTElZlKxYOtTe2ji4eH1r7mig+1BGq0x1mRAuuGI/DDHbP2V8EDx9FJZAPLQTwpMCfFy4vbzm7dEsduKpVAQABw44Z5FS0I16bBLlonTpzAxYsXUV0t9hJ76KGHGi2UMyJk3C8u5s4dls7C5udrlZO5CqrKPP8GJ4EhGudEU4hJyIA/SszauxZSnEBHkRdiNhJQCSMBSoTDItiKdV/qJBLAx4f/HxjIXxz1K1IzZr+K1IRjY7FSO3/+PP7973/j6NGjGlsaoK0+7Yw2NWsQFMTfHouL697O1JShSqVNQuz67vkMUcgVeSF2wxEEoNisvdWQ4CTiRCOwbCSgHD62FZuwCfrPhPBcCLYztZrPXgjJhiMitEpOoKLCvhWpCcfFYqU2ZcoUREVF4ddff0W7du1w6NAhFBYWYtq0aXjnnXdsIaNT0KULcEdnVky35pk+xqr2ymTiQGrXSVPFEIk80RRiEjIQiCKz9lZDglOIFdnAMpGIMvjaWG7CXpiqYi0kF5BK+TNRUcGnGHXtz8J+FEhNCFis1A4cOIDdu3cjODgYUqkUUqkU99xzD5YsWYLJkycjMzPTFnI6PF99ZZ4dzNT0Ym0tf3iFkjLOCUMELolGYEnIQBAKzT7CKXQQjcAykYg7cPzaeETDMSfGUsimo1Lx7PqtWlEgNWEci5VabW0tfH35W3JQUBCuXr2K2NhYREZG4tQp8wsauhpCqRhPT/7gmWMbE7KLC4U8ncvpg6EVrhiMwFrihtlHOIP2ojiwI+iGEvjbUGbC0ajLc1F/uZAiLjiYT0dSIDVhDIuVWufOnZGTk4N27dqhZ8+eWLZsGTw9PbF27Vq0a9fOFjI6BbrlLby8+NunoKB0M+kL1a49PXlM2rlz/EF1dKePMFw1UGChuGb2/ufQTuTEcQTdcBvNbScwYXOMOXXUta0wlSiVau/3Nm20ldZrarSOHvrJBQBtJfc5c4BOnSiQmjCOxUpt9uzZKCvjMUELFy7E0KFD0adPH7Ro0QJbtmyxuoDOwhNPAFOm8LdHDw/tQybkaxRGZMJDLKwTlJ8jEYp8kfJKxmGEocDs/XPR1kCBFSHQhhIT9sTLS2wzNifoXzcxt6AEhdynus9KUZHWc1hXUQkvhwEBwMiRfNRGEMaw+NYYPHiw5v927drhxIkTuHXrFgICAtw6Y79MBsyaBcycyR9ywcitVmsfYm9vbuwWbAGFhU2fs7ElromS+SbjMFrhqtn7X0CkaAoxA0m4hRY2lJhoaoRE2kKFdHOCnwWbsbCPhwdXUFevihMNK5VahyuVSryP8IyRQiPqwuLb49q1awgJCREtCwzkb+E5OTlunftx2jT+d/Fi4PZtbdHOwEDgsce4gVs3qaqfH09kbC+CcENvBJaOCFwxe/9LaC1KJZWBJNxEsA0lJhyR2lpt4HNAAFc0v/0GbNtmuG1cHI/b1H0ehH0SEw0TDffqBbRrB3z9tfF9hGeMIExhce7Hli1bYt26dQZB1u+88w7eeOMNVFSYlzDWkbB2jjSVCti8mTuPREbyqUnBc0t3+Y4dwMaNfB9rp7xqgZs6NZUz0B3paINLZu9/BeEiL8QMJOE6QurfkXB5OnUCnnxSfG8DfKT18svA2bNA+/bAypV8BGbqeQDEFS107WN17UOYh7vmfrRYqS1fvhyzZ8/GmDFjsHLlSty6dQujRo3C8ePH8fHHHztlRhF7/Pj62fs9PfkUzrlzjT92cxRpRmDdkY4kZKAt8szePx+hIhtYBpJQgLDGC0a4JBMnAmvWNLUURH2QUrOA7OxsPP3006isrMStW7dw991349NPPzWYlnQWbP3jG8veX1XFA0lvmO8BD4ArsG44IrKBtYP5SaavIVizp6DErqKVhVdEuDOCXZhwbNxVqTVoQN+uXTt06tQJ33zzDQDg8ccfd1qFZmvqyt7fujWfdjH1WtEMtzUKrDsOIRmHEW2BAruBIAMb2GW0BuC+Dj1E4xBCUgjCUbFYqf355594+umn0aJFC+Tk5ODPP//Ef/7zH/z444/46KOPEBAQYAs5nQpde4BaDZw8yUdoEok4EStj3AusthbwZSVIRCaSkIEe+AvJyEB7mD83WYhAHEE3HEJ3HP5HiV1CBEiBEdbCx4d78FImfMKRsVip9evXDy+//DLefPNNyOVyxMXF4b777sOoUaPQpUsXXL582RZyOg3Ll2u9H4URGGN8yqa6mk87KmvvoJskE0k4jCTVIXRDBtrjLKQwbya4CM2RiUSc8e+Og+oeOFSbhFOVkahVkwIjzEeIEauq4lPi/v7AhQv85Ssigs8uVFbyqcZWrfi2lAmfcHQsVmo7duxAamqqaFl0dDT27duHRYsWWU0wZ2T5ch6nplJp49Q8a8rQWZ2F7oXp6IFDSJIcQQw7bbYCu41myEQi0tEd6eiOw0hGLqIASBAXzt+clQD8ztVfIYAgdFEoeHJggfJy7fS4QsGVni7l5ZQJn3B8GuQo4mpYw6CqUgGRLSvQpigbKbJD6M4Ooav6CGLYKXjAvAjrEvjhqDQBGZLu+LO2JzKQhHOIhqkpxK5dtdnKKyqAEycaJDrhpiQkiN3kGQOOHeP/d+pkmNHjyhWeZ/GXXygtlTNAjiL1MGTIEHz55Zfw9+cJZxctWoQXX3wRzZs3BwAUFhaiT58+OOEuPWtFBZCTA/z1F5Cejjt7MpFX9DdkqAXMyLJ/Bz7IQQLSkYyD6IksaTLy5O0BqRTV1YA5Ven+/huIiuLTQ6dPN/qKCDdCIgEuXwZathRnuw8O5gpMP9MHZcInnAWzR2oeHh7Iz89Hy5YtAQDNmjVDVlaWJonxtWvXEB4e7pRFQhvyRsNSUyH5/Xezti2DN7KRgAx0wyH0RIakO85KO8BDLtUkO1YotImPzc0H2bw5H6lVVYlruRFEXbRowe+xqChtxXZPTyA2listwDCmUlhHmfCdBxqp1YO+7nPnWcvdu4HiC90wHIZKrRxKnJB2RqYkCenSHjgkuRvHqjugFnyeUKiZJmQtB4xnJDeHigpxBQDCefH05AqkoZgqtKm7TiLhoSS+vny7Dz/k96CxbPd9+xrP9EEQjg4lnrEQIZB6UHEShki8cM6rM44rErFf1QO7y+7GCRYHT4WHSEnV6nRWggMJY3yEJQxsq6r4OiE5rDmZz6urtcdTqZy5uKh70qEDd5OvquL5EQvNrKVqrKq6p6fWvircP4KCUyjE99Xly9wem5RkWlFJpeS2TzgnZis1iURikIXf3bLy6wZSZ7R7DKnSJ1Ar4U3IGJB7GlCXibP0687G6o/IdN+qG9KUuuU85HJSas6GUsnvEaWS5zc0V6npV3aQSMQvOLrT1/pKy5yM+gThzFg0/Th27FgoFAoAQGVlJSZOnAgfHx8AQJWjV7m0ApmZ3M7QogVQI1WIAqm9vXlsT34+71TKyrRKRirlRnahGKhQ7NDLi39njL9pC/+bq+DUam0n5YSmTLfnyhWuzAA+lSwkvTYXmQx49lkgJkZcGQIQ33PCqE2YfgwI4OnZKIiacEXMVmpjxowRfX/66acNthk9enTjJXJgBKN6dTVw6ZK4s/DyAkJC+N9163gpjbw83tFs3AiEhfGORlcR1tTwYFe1mndq+m/Qxt6qdZcJNhh683ZOdKeYhUKyQoHZmhrtOqWSBz+XlACDB/P10dHAjBnalFVTpmiz2Ny+DXz+OY9B089i4+3Nz0NB1ISrYrZSW79+vS3lMMmVK1cwY8YM/Pzzz6ioqECHDh3wySefIOmfV0zGGObPn4+1a9eiqKgIPXv2xPvvv49OnTpZXZagIK6A8vJ4xyCTaZVMRQVfHhAAhIYCDzzA98nIALZs+SeTiJJ3KgJlZXV7OhpbrrtMUKg0peSc6CYFFuLFhBG3MLUsVHwW7q0pU4yPrmQyQHjP1L/n/plM0VBRQUHUhOvi0P5MRUVF6N27N+RyOX7++WecOHECy5cv18TGAcCyZcuwYsUKrF69Gunp6QgNDcXAgQNRWlpqdXkSErQOGYL9QvBiFGxaKhXfTiAxkbtDFxYaKh4vL7F9RCrVHlMX4RzGjPqCUnMz86ZL0EqnOILuvWDuvWWKuu45xnjMWWws344gXA2HVmpLly5FREQE1q9fjx49eqBt27bo378/oqOjAfBR2qpVq/D6669j+PDh6Ny5Mz777DOUl5dj06ZNJo9bVVWFkpIS0cccsrP5G7EwdSiMsnTLzctkfDsBqZTH9/j5cRtKeTnfvrwcyNVLuM+Y9mPO8vrWEY5NSYn2Xrh4kd8rHh5ceZlzb5mirnvuyhUKoiZcG4e+rb///nskJyfjscceQ8uWLZGYmIiPP/5Ysz43NxcFBQUYNGiQZplCoUBqair2799v8rhLliyBv7+/5hMREWGWPDdv8o4gMpJP6wgdjlqt9WAT4n506dcP+OgjnmKorIzbM8rKePYGiYRPBQlTTXVNReo7kdS3D+GYeHvz3/zOHe29EBnJlU1UFL+Xamv5vVVbW/e9ZQpT91x8PI9PoyBqwlVx6Di18+fPY82aNZg6dSpmzZqFQ4cOYfLkyVAoFBg9ejQKCgoAwKCWW0hICPLyTFd+njlzJqZOnar5XlJSYpZiE2pJeXryGCN9A3xdCV/79TMMaD1+HBg3TuskYA662+lmIQEMXb0J85DLtY4Z+vbJhtgrdfeJiOA2LN1s99XVXKEtXsxfbARb7aOP8vsnJsbw3mqIHczYPUdB1ISr49BKTa1WIzk5GYsXLwYAJCYm4vjx41izZo3I01I/Xo4xVmcMnUKh0IQmWIJgq8jJ4Z2TrtOHYKuIjzdtq9APaE1IACZO5B1WQ6ipsTxg293Q7cCNBSsLjhgC+qNhfYUmHM/YCNlYVo+gIMPEwMJ9MnKkOJBa997Sde4w594yBQVRE+6GQ7+zhYWFoWPHjqJlcXFxuHjxIgAgNDQUADQjNoHr16/bpBK3LWwVjXHwqKvzJThqtfaji76i0aUuO6VwrLrsmwJyOU8MbM59QnYwgrAODv2I9O7dG6dOnRItO336NCL/iViNiopCaGgodu7cqVlfXV2NvXv3IiUlxSYymWOrUKu5W/X27fyv0KFWVwNvvgmMHcv/btzI3a6F9EaWIgTrCrFzhBhjLwy+vlxx6NpDvby08WH6SsPDg2ey9/Ex/jsJ+xrbJyAAaNvWfJsW2cEIovE49PTjyy+/jJSUFCxevBiPP/44Dh06hLVr12Lt2rUA+LRjWloaFi9ejJiYGMTExGDx4sXw9vbGyJEjbSZXXbaK3buNZzhXKHgdKt2MEUJKo/pGa4JXnLCdoMCEmCZLnUWEaTfAeMol4ePsWUr8/bU5NqVS3m6hoXy5sSB4gCuh2lrtbxcYqA1W3ryZ/+bnzvF2++UXoHVr3la3bhnfZ+5cruDMtWmRHYwgGodDK7Xu3btj69atmDlzJhYsWICoqCisWrUKTz31lGab6dOno6KiApMmTdIEX+/YsQN+fn42lc2YrUJIdlxaylNpKRS8Q/3jD+P2LkGh1KeQBHdu3X0A3vkKnpPV1eYpIZlMm4VCrRbLJZPxKTNBETQVdWWct4SqKu5NqFDwquB5efwTFcVHawJlZdrzenqKbaWA1kkjLAwYOpQvy8gA9u7VBji3aGF8n5YtLbdpkR2MIBoOVb6GdeoOqdXAv/6lNfQLHXNtLZCVpd3OlONCXSgU2ikuIX8kwKe+dB0NzHEU0T0WwEcsArrHE6Y1zaEu54mGYCwLfUPQrezMGHDmDPc69PHho2cBtZp7ogJA586GtkpjFZ9N/d517UMQ9sRd66nR42YldJMd63Zw166Jt2tIpy/YflQqrUIzFqRrDtXV2v10lZbu6EitNn/q0RaZTIw5dliKr69WoQFcztBQvqy8nE8XCo4YV69y1/rgYPOdNMixgyAcE3rkrISQ7Fg/UkB/Gq8hGUAEBVRbq3V0EIJ0dR0e6lIwzZrxfX19tTYjYZ8WLfjoRVCaQhqwhjqwWAtTqcF01xtDiPXSp1kzHsQsk4kDn+PjeQLgzz+3zEmDHDsIwvFwaJuaMyEEZgs2FgFj4XCWjtb69eOfyEjeWT/+uGEAuErFiz8yJnZGkUi4jSgggK/76is+DZeXx5Xa2rVceQmjNkExCgpDJuMZ4UtLtQHEajWgF0VhFKWS769Q8L/m7CPIIOQ8FFJEtWsHXL/O21eh4Eq9spLL1bMnz0zfvj1P6jtypOHvICCX82oKuoHPjan4TI4dBOFYkFKzEvqB2YJyCAnhb/CN4ccftRnd9YN0dZ0aCgq0gdwKhbbCtm614+7duRIQjvW//3Gbn0QirjogVOWWyfgoztdXex5dpaYbrKyffSM2VmwL1FVq5gZFCzIII1QB3YDkr74yHcSsb+syFvisS0OcNMixgyAcB3qftBKmbCyVlY17ax86VFyipC5bjpAZQz/Tvzl2L2OjRyGUQP88V6/yqTwBYwHOQgFUYZ/8/Pr3Ec5pjgxk6yIIwhj0aFsRYzaW4mI++tAd6ejSvLlYaekydCjwww/mnaeoSBworJ8Qt1UrbbVjgcxMvqx1az7i07XPCZW8/f2NBxBv3crDF2R6Y32ZjMvdp4/5+wDGg6Lrk4FsXQRB6EMu/bC+66tarbWxnDkDLFrEY5wkEj4FJ9iFQkO1QboffQT8/DNw9iy3Da1cqbVfmbLX6J9n4cL6qx1v2MCrJwM848nYscarcgtKLj8f+PRT0wHE1dXA0qU8IFm3GnNdcuvuo1ZzOVq1argM5vwOZOsi3A13deknm5oN0LWx6DuQhIWJtxWCdFu1AtasEa8zlZ3ktdf4aEP/PEKwt7nVjvVl0w86rqysP4DY0xN4442626CuffSDmBsigynI1kUQ7ge9t9qYhlYhFrKT5OTwqbmwMP43J4cv37278edxhArJjiADQRCuAyk1G9MQxwW1mo/QSkv5CE6p5OsF21hpKV+v62TRkPM4glOFI8hAEITrQF2FHRAcF7p04Q4dFy7wv126GHdcMJWdBODfAwP5el2nD93zOFsAsSPIQBCEa0A2NQfEVHYSAS8vrhRv3jRc15BgYEcIIHYEGQiCcH5IqdkBU9n7jx7lyz/6SDwaMZWdREBwntB1+tDFWQOIHUEGgiCcG3oPtjENsY+R8wRBEETDIKVmYxpiHyPnCYIgiIZB3aKNMcc+Vl1taB8j5wmCIAjLIZuajWmMfYycJwiCICyDlJqNMZW9HxBnjTdlHyPnCYIgCPOhd34bQ/YxgiAI+0FdqR0g+xhBEIR9oOlHO0H2MYIgCNtDSs2OkH2MIAjCttA4gSAIgnAZSKkRBEEQLgMpNYIgCMJlIJsaAPZPgsWSkpImloQgCMI6CP0Z008g6+KQUgNQWloKAIiIiGhiSQiCIKxLaWkp/P39m1oMuyFh7qbGjaBWq3H16lX4+flBopd1uKSkBBEREbh06RKaNWvWRBI2PdQOHGoHagMBR28HxhhKS0sRHh4OqRvFDtFIDYBUKkXr1q3r3KZZs2YOeePaG2oHDrUDtYGAI7eDO43QBNxHfRMEQRAuDyk1giAIwmUgpVYPCoUCc+fOhcJUQTQ3gdqBQ+1AbSBA7eCYkKMIQRAE4TLQSI0gCIJwGUipEQRBEC4DKTWCIAjCZSClRhAEQbgMpNTq4YMPPkBUVBS8vLyQlJSEP/74o6lFsim///47HnzwQYSHh0MikeC7774TrWeMYd68eQgPD4dSqUTfvn1x/PjxphHWRixZsgTdu3eHn58fWrZsiYcffhinTp0SbePq7bBmzRrEx8drAot79eqFn3/+WbPe1a/fGEuWLIFEIkFaWppmmTu2g6NDSq0OtmzZgrS0NLz++uvIzMxEnz59cP/99+PixYtNLZrNKCsrQ0JCAlavXm10/bJly7BixQqsXr0a6enpCA0NxcCBAzX5M12BvXv34sUXX8TBgwexc+dOqFQqDBo0CGVlZZptXL0dWrdujbfeeguHDx/G4cOH0a9fPwwbNkzTYbv69euTnp6OtWvXIj4+XrTc3drBKWCESXr06MEmTpwoWnbXXXex1157rYkksi8A2NatWzXf1Wo1Cw0NZW+99ZZmWWVlJfP392cffvhhE0hoH65fv84AsL179zLG3LcdAgIC2Lp169zu+ktLS1lMTAzbuXMnS01NZVOmTGGMue994OjQSM0E1dXVyMjIwKBBg0TLBw0ahP379zeRVE1Lbm4uCgoKRG2iUCiQmprq0m1y+/ZtAEBgYCAA92uH2tpabN68GWVlZejVq5fbXf+LL76IBx54AAMGDBAtd7d2cBYoobEJbt68idraWoSEhIiWh4SEoKCgoImkalqE6zbWJnl5eU0hks1hjGHq1Km455570LlzZwDu0w5Hjx5Fr169UFlZCV9fX2zduhUdO3bUdNiufv0AsHnzZhw5cgTp6ekG69zlPnA2SKnVg34pGsaYwTJ3w53a5KWXXkJOTg727dtnsM7V2yE2NhZZWVkoLi7GN998gzFjxmDv3r2a9a5+/ZcuXcKUKVOwY8cOeHl5mdzO1dvB2aDpRxMEBQXBw8PDYFR2/fp1gzczdyE0NBQA3KZN/vOf/+D777/Hnj17RKWJ3KUdPD090b59eyQnJ2PJkiVISEjAu+++6zbXn5GRgevXryMpKQkymQwymQx79+7Fe++9B5lMprlWV28HZ4OUmgk8PT2RlJSEnTt3ipbv3LkTKSkpTSRV0xIVFYXQ0FBRm1RXV2Pv3r0u1SaMMbz00kv49ttvsXv3bkRFRYnWu0s76MMYQ1VVldtcf//+/XH06FFkZWVpPsnJyXjqqaeQlZWFdu3auUU7OB1N56Pi+GzevJnJ5XL2ySefsBMnTrC0tDTm4+PDLly40NSi2YzS0lKWmZnJMjMzGQC2YsUKlpmZyfLy8hhjjL311lvM39+fffvtt+zo0aPsySefZGFhYaykpKSJJbceL7zwAvP392e//fYby8/P13zKy8s127h6O8ycOZP9/vvvLDc3l+Xk5LBZs2YxqVTKduzYwRhz/es3ha73I2Pu2w6ODCm1enj//fdZZGQk8/T0ZN26ddO4dbsqe/bsYQAMPmPGjGGMcTfmuXPnstDQUKZQKNi9997Ljh492rRCWxlj1w+ArV+/XrONq7fDuHHjNPd9cHAw69+/v0ahMeb6128KfaXmru3gyFDpGYIgCMJlIJsaQRAE4TKQUiMIgiBcBlJqBEEQhMtASo0gCIJwGUipEQRBEC4DKTWCIAjCZSClRhAEQbgMpNQIgiAIl4GUGkG4IL/99hskEgmKi4sBABs2bEDz5s0bfVyJRILvvvuu0cchCFtBSo1wKsaOHYuHH37YYLl+J+6IfPPNN+jZsyf8/f3h5+eHTp06Ydq0aZr18+bNQ9euXW1y7hEjRuD06dM2OTZBOBJUT40gzKSmpgZyubxB+/7666944oknsHjxYjz00EOQSCQ4ceIEdu3aZWUpjaNUKqFUKu1yLoJoSmikRrgk33zzDTp16gSFQoG2bdti+fLlovXGptGaN2+ODRs2AAAuXLgAiUSCr776Cn379oWXlxe++OIL5OXl4cEHH0RAQAB8fHzQqVMn/PTTT/XKs23bNtxzzz149dVXERsbiw4dOuDhhx/Gf//7XwB8enD+/PnIzs6GRCKBRCLBhg0bNHJkZWVpjlVcXAyJRILffvtNs+ynn35Chw4doFQqcd999+HChQui8xubfvzhhx+QlJQELy8vtGvXDvPnz4dKpdKsP3PmDO699154eXmhY8eOBmWYCMIRoZEa4XJkZGTg8ccfx7x58zBixAjs378fkyZNQosWLTB27FiLjjVjxgwsX74c69evh0KhwPjx41FdXY3ff/8dPj4+OHHiBHx9fes9TmhoKDZt2oRjx46hc+fOButHjBiBY8eO4ZdffsGvv/4KAPD398e1a9fqPfalS5cwfPhwTJw4ES+88AIOHz4smtY0xvbt2/H000/jvffeQ58+fXDu3DmMHz8eADB37lyo1WoMHz4cQUFBOHjwIEpKSpCWllavLATR5DR1mQCCsIQxY8YwDw8P5uPjI/p4eXkxAKyoqIiNHDmSDRw4ULTfq6++yjp27Kj5DoBt3bpVtI2/v7+mvExubi4DwFatWiXapkuXLmzevHkWy33nzh02ZMgQBoBFRkayESNGsE8++YRVVlZqtpk7dy5LSEgQ7SfIkZmZqVlWVFTEALA9e/Ywxnjts7i4OKZWqzXbzJgxQ9MejDG2fv165u/vr1nfp08ftnjxYtG5Nm7cyMLCwhhjjG3fvp15eHiwS5cuadb//PPPRtuNIBwJmn4knI777rtPVI04KysL69at06w/efIkevfuLdqnd+/eOHPmDGpray06V3Jysuj75MmTsXDhQvTu3Rtz585FTk6OWcfx8fHBjz/+iLNnz2L27Nnw9fXFtGnT0KNHD5SXl1skkz4nT57E3XffDYlEolnWq1evOvfJyMjAggUL4Ovrq/k8//zzyM/PR3l5OU6ePIk2bdqgdevWZh+TIBwBUmqE0+Hj44P27duLPq1atdKsZ4yJOnhhmS4SicRgWU1NjdFz6fLcc8/h/PnzGDVqFI4ePYrk5GSNXcwcoqOj8dxzz2HdunU4cuQITpw4gS1btpjcXiqVGsivL6f+dZiDWq3G/PnzRS8GR48exZkzZ+Dl5WX0mPptShCOCCk1wuXo2LEj9u3bJ1q2f/9+dOjQAR4eHgCA4OBg5Ofna9afOXPG7BFTREQEJk6ciG+//RbTpk3Dxx9/3CA527ZtC29vb5SVlQEAPD09DUaSwcHBACCSVddpBODXe/DgQdEy/e/6dOvWDadOnTJ4OWjfvj2kUik6duyIixcv4urVq5p9Dhw4YPE1EoS9IUcRwuWYNm0aunfvjjfffBMjRozAgQMHsHr1anzwwQeabfr164fVq1fj7rvvhlqtxowZM8xy109LS8P999+PDh06oKioCLt370ZcXFy9+82bNw/l5eUYMmQIIiMjUVxcjPfeew81NTUYOHAgAK7kcnNzkZWVhdatW8PPzw9KpRJ333033nrrLbRt2xY3b97E7NmzRceeOHEili9fjqlTp2LChAnIyMjQeHGaYs6cORg6dCgiIiLw2GOPQSqVIicnB0ePHsXChQsxYMAAxMbGYvTo0Vi+fDlKSkrw+uuv13udBNHkNKVBjyAsZcyYMWzYsGEGy/fs2SNyjPh//+//sY4dOzK5XM7atGnD3n77bdH2V65cYYMGDWI+Pj4sJiaG/fTTT0YdRXQdNBhj7KWXXmLR0dFMoVCw4OBgNmrUKHbz5s165d69ezd75JFHWEREBPP09GQhISHsX//6F/vjjz8021RWVrJHHnmENW/enAHQyHLixAl29913M6VSybp27cp27NghchRhjLEffviBtW/fnikUCtanTx/26aef1ukowhhjv/zyC0tJSWFKpZI1a9aM9ejRg61du1az/tSpU+yee+5hnp6erEOHDuyXX34hRxHC4ZEw1oAJeYIgCIJwQMimRhAEQbgMpNQIwgpMnDhR5B6v+5k4cWJTi0cQbgNNPxKEFbh+/TpKSkqMrmvWrBlatmxpZ4kIwj0hpUYQBEG4DDT9SBAEQbgMpNQIgiAIl4GUGkEQBOEykFIjCIIgXAZSagRBEITLQEqNIAiCcBlIqREEQRAuw/8HPROv+Ix5QLUAAAAASUVORK5CYII=",
      "text/plain": [
       "<Figure size 400x300 with 1 Axes>"
      ]
     },
     "metadata": {},
     "output_type": "display_data"
    }
: [
       "<Figure size 400x300 with 1 Axes>"
      ]
     },
     "metadata": {}
: [
       "<Figure size 400x300 with 1 Axes>"
      ]
     },
     "metadata": {}
: [
       "<Figure size 400x300 with 1 Axes>"
      ]
     },
     "metadata": {}
: [
       "<Figure size 400x300 with 1 Axes>"
      ]
     },
     "metadata": {}
: [
       "<Figure size 400x300 with 1 Axes>"
      ]
     },
     "metadata": {}
: [
       "<Figure size 400x300 with 1 Axes>"
      ]
     },
     "metadata": {}
: [
       "<Figure size 400x300 with 1 Axes>"
      ]
     },
     "metadata": {}
: [
       "<Figure size 400x300 with 1 Axes>"
      ]
     },
     "metadata": {}
: [
       "<Figure size 400x300 with 1 Axes>"
      ]
     },
     "metadata": {}
: [
       "<Figure size 400x300 with 1 Axes>"
      ]
     },
     "metadata": {}
: [
       "<Figure size 400x300 with 1 Axes>"
      ]
     },
     "metadata": {}
: [
       "<Figure size 400x300 with 1 Axes>"
      ]
     },
     "metadata": {}
: [
       "<Figure size 400x300 with 1 Axes>"
      ]
     },
     "metadata": {}
: [
       "<Figure size 400x300 with 1 Axes>"
      ]
     },
     "metadata": {}
: [
       "<Figure size 400x300 with 1 Axes>"
      ]
     },
     "metadata": {}
: [
       "<Figure size 400x300 with 1 Axes>"
      ]
     },
     "metadata": {}
: [
       "<Figure size 400x300 with 1 Axes>"
      ]
     },
     "metadata": {}
: [
       "<Figure size 400x300 with 1 Axes>"
      ]
     },
     "metadata": {}
: [
      "[0.289290628609581, 0.19576871978431706, -0.04510658737355753, 0.047301919924266515, 0.4948553141454169, 0.10497136807818429, 0.8788311309533342, 0.9457808791795702, 0.5104136597592396, 0.486098509507693, 0.757824424225006, 0.4953593257071168, 0.4709192954560511, 0.07478666574576995, 0.5158094098307966, -1.0786168358952906, 0.49748725981468517, -0.5291287061759595, 0.016004409105015355]\n"
     ]
    }
   ],
   "source": [
    "coefficients_array = []\n",
    "model = LinearRegression()\n",
    "\n",
    "for i in range(len(encoded.columns) - 1):\n",
    "    # MAKE A LINEAR REGRESSION FIT FOR EACH COLUMN:\n",
    "    column_name = encoded.columns[i]\n",
    "    X = encoded[[column_name]] # x must be a dataframe for regression\n",
    "    y = encoded[\"ExamScore\"] # y can be an array\n",
    "    \n",
    "    model.fit(X, y)\n",
    "\n",
    "    coef = model.coef_[0] # Coefficient (slope) for the linear regression\n",
    "    coefficients_array.append(coef)\n",
    "\n",
    "    \n",
    "    # visual plot for each X\n",
    "    plt.figure(figsize = (4, 3))\n",
    "    sns.regplot(data=encoded, x=X, y=y, scatter_kws = {'color': 'blue'}, line_kws = {'color': 'red'}, fit_reg=True)\n",
    "\n",
    "    plt.title(f'Linear Regression - {column_name} vs Exam Score')\n",
    "    plt.xlabel(f'{column_name}')\n",
    "    plt.ylabel(\"Exam score out of 100\")\n",
    "\n",
    "    plt.show()\n",
    "\n",
    "print(coefficients_array)"
   ]
  },
  {
   "cell_type": "code",
   "execution_count": 7,
   "id": "058d47b1-37da-4792-86bf-99ca617f3ddf",
   "metadata": {},
   "outputs": [
    {
     "name": "stdout",
     "output_type": "stream",
     "text": [
      "0.289290628609581 61.456983609504064\n"
     ]
    },
    {
     "data": {
      "image/png": "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",
      "text/plain": [
       "<Figure size 640x480 with 1 Axes>"
      ]
     },
     "metadata": {},
     "output_type": "display_data"
    }
   ],
   "source": [
    "model = LinearRegression() # run linear regression\n",
    "\n",
    "model.fit(performance[[\"Hours_Studied\"]], # x must be a dataframe\n",
    "                performance[\"Exam_Score\"]) # y can be an array\n",
    "\n",
    "slope = model.coef_[0]  # Coefficient (slope) for the linear regression\n",
    "intercept = model.intercept_  # Intercept\n",
    "print(slope, intercept)\n",
    "\n",
    "# visual plot\n",
    "sns.scatterplot(performance, x=performance[\"Hours_Studied\"], y=performance[\"Exam_Score\"], color='blue')\n",
    "sns.regplot(performance,x=performance[\"Hours_Studied\"], y=performance[\"Exam_Score\"], scatter=False, color='red') # make a regression on the same plot, w/o scattered points\n",
    "\n",
    "plt.title(\"Linear Regression - Hours studied vs exam score\")\n",
    "plt.xlabel(\"Hours studied\")\n",
    "plt.ylabel(\"Exam score out of 100\")\n",
    "\n",
    "plt.show()"
   ]
  }
],
 "metadata": {
  "kernelspec": {
   "display_name": "Python 3 (ipykernel)",
   "language": "python",
   "name": "python3"
  },
  "language_info": {
   "codemirror_mode": {
    "name": "ipython",
    "version": 3
   },
   "file_extension": ".py",
   "mimetype": "text/x-python",
   "name": "python",
   "nbconvert_exporter": "python",
   "pygments_lexer": "ipython3",
   "version": "3.12.4"
  }
 }
: 4,
 "nbformat_minor": 5
}


 /* Font Definitions */
 @font-face
	{font-family:"Cambria Math";
	panose-1:2 4 5 3 5 4 6 3 2 4;
	mso-font-charset:0;
	mso-generic-font-family:roman;
	mso-font-pitch:variable;
	mso-font-signature:-536869121 1107305727 33554432 0 415 0;}
 /* Style Definitions */
 p.MsoNormal, li.MsoNormal, div.MsoNormal
	{mso-style-unhide:no;
	mso-style-qformat:yes;
	mso-style-parent:"";
	margin:0in;
	mso-pagination:widow-orphan;
	font-size:12.0pt;
	font-family:"Times New Roman",serif;
	mso-fareast-font-family:"Times New Roman";
	mso-fareast-theme-font:minor-fareast;}
p.msonormal0, li.msonormal0, div.msonormal0
	{mso-style-name:msonormal;
	mso-style-unhide:no;
	mso-margin-top-alt:auto;
	margin-right:0in;
	mso-margin-bottom-alt:auto;
	margin-left:0in;
	mso-pagination:widow-orphan;
	font-size:12.0pt;
	font-family:"Times New Roman",serif;
	mso-fareast-font-family:"Times New Roman";
	mso-fareast-theme-font:minor-fareast;}
.MsoChpDefault
	{mso-style-type:export-only;
	mso-default-props:yes;
	font-size:10.0pt;
	mso-ansi-font-size:10.0pt;
	mso-bidi-font-size:10.0pt;
	mso-font-kerning:0pt;
	mso-ligatures:none;}
@page WordSection1
	{size:8.5in 11.0in;
	margin:1.0in 1.0in 1.0in 1.0in;
	mso-header-margin:.5in;
	mso-footer-margin:.5in;
	mso-paper-source:0;}
div.WordSection1
	{page:WordSection1;}
-->
</style>
<!--[if gte mso 10]>
<style>
 /* Style Definitions */
 table.MsoNormalTable
	{mso-style-name:"Table Normal";
	mso-tstyle-rowband-size:0;
	mso-tstyle-colband-size:0;
	mso-style-noshow:yes;
	mso-style-priority:99;
	mso-style-parent:"";
	mso-padding-alt:0in 5.4pt 0in 5.4pt;
	mso-para-margin:0in;
	mso-pagination:widow-orphan;
	font-size:10.0pt;
	font-family:"Times New Roman",serif;}
</style>
<![endif]--><!--[if gte mso 9]><xml>
 <o:shapedefaults v:ext="edit" spidmax="1026"/>
</xml><![endif]--><!--[if gte mso 9]><xml>
 <o:shapelayout v:ext="edit">
  <o:idmap v:ext="edit" data="1"/>
 </o:shapelayout></xml><![endif]-->
</head>

<body lang=EN-US style='tab-interval:.5in;word-wrap:break-word'>

<div class=WordSection1>

<div>

<p class=MsoNormal><span style='mso-fareast-font-family:"Times New Roman"'><o:p>&nbsp;</o:p></span></p>

</div>

</div>

</body>

</html>
